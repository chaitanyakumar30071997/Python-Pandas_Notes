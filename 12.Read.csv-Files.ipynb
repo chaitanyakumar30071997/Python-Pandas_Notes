{
 "cells": [
  {
   "cell_type": "markdown",
   "id": "4ce553d7-0637-4614-94ba-217635a0c34f",
   "metadata": {},
   "source": [
    "# EXAMPLES – READ CSV\n",
    "\n",
    "We will now see some examples to read CSV in Pandas:\n",
    "\n",
    "1. Read a CSV\n",
    "\n",
    "2. Display the top n rows of the DataFrame\n",
    "\n",
    "3. Display the last n rows of the DataFrame"
   ]
  },
  {
   "cell_type": "markdown",
   "id": "f29ee8fd-e0ce-46c7-944c-c7f25222bb78",
   "metadata": {},
   "source": [
    "# 1. EXAMPLE – READ A CSV\n",
    "\n",
    "Let us see an example to read our CSV file Students.csv using the pandas.read_csv() method in Pandas:"
   ]
  },
  {
   "cell_type": "code",
   "execution_count": null,
   "id": "671ef5ed-6b39-4d79-aaad-12f9b22bc510",
   "metadata": {},
   "outputs": [],
   "source": [
    "import pandas as pd\n",
    "\n",
    "s = pd.read_csv('oly.csv')\n",
    "\n",
    "print(s)"
   ]
  },
  {
   "cell_type": "markdown",
   "id": "440e7d69-465f-4614-a545-53403171e41a",
   "metadata": {},
   "source": [
    "# 2. EXAMPLE - DISPLAY THE TOP N ROWS OF A DATAFRAME\n",
    "\n",
    "The head() method will display the first n rows of a DataFrame. The default rows returned are 5.\n",
    "\n",
    "Let us see an example to display only the top 2 rows. For that, set the parameter of the head() as 2:"
   ]
  },
  {
   "cell_type": "code",
   "execution_count": null,
   "id": "d94a9fc7-07ac-46af-a1f9-cd88ede58e4b",
   "metadata": {},
   "outputs": [],
   "source": []
  },
  {
   "cell_type": "code",
   "execution_count": null,
   "id": "03f0d9a0-93ee-4761-ba92-4b4e8096576a",
   "metadata": {},
   "outputs": [],
   "source": [
    "import pandas as pd\n",
    "\n",
    "# READ CSV FILES \n",
    "s = pd.read_csv('oly.csv')\n",
    "\n",
    "# READ CSV FILE n number Top 5 Row \n",
    "pf = s.head()\n",
    "\n",
    "\n",
    "# Read csv files Top 2 Row\n",
    "pff = s.head(2)\n",
    "print (pff)"
   ]
  },
  {
   "cell_type": "markdown",
   "id": "34b9d53f-cc87-46ce-969e-e542086d1273",
   "metadata": {},
   "source": [
    "# 3. EXAMPLE – DISPLAY THE LAST N ROWS OF A DATAFRAME\n",
    "\n",
    "The tail() method will display the last n rows of a DataFrame. The default rows returned are 5.\n",
    "\n",
    "Let us see an example to display only the bottom 2 rows. For that, set the parameter of the tail() as 2:"
   ]
  },
  {
   "cell_type": "code",
   "execution_count": null,
   "id": "80a05139-7194-4507-b416-9eb23a199137",
   "metadata": {},
   "outputs": [],
   "source": []
  },
  {
   "cell_type": "code",
   "execution_count": null,
   "id": "c1020ed6-cc0f-4bb4-8f3a-b202c44ff098",
   "metadata": {},
   "outputs": [],
   "source": [
    "import pandas as pd\n",
    "\n",
    "# READ CSV FILES \n",
    "s = pd.read_csv('oly.csv')\n",
    "\n",
    "# READ CSV FILE n number Last 5 Row \n",
    "pf = s.tail()\n",
    "\n",
    "\n",
    "# Read csv files last 2 Row\n",
    "pff = s.head(2)\n",
    "print (pff)"
   ]
  },
  {
   "cell_type": "code",
   "execution_count": null,
   "id": "7fe03fe0-0544-4b16-bf98-aa9fcdd7097f",
   "metadata": {},
   "outputs": [],
   "source": [
    "df = pd.read_csv('oly.csv', dtype={'column1': str, 'column2': int})\n"
   ]
  },
  {
   "cell_type": "code",
   "execution_count": null,
   "id": "cb051ffc-9e31-4c58-90e5-4b48bfd0b8d1",
   "metadata": {},
   "outputs": [],
   "source": []
  },
  {
   "cell_type": "code",
   "execution_count": null,
   "id": "2233ca3e-69e9-4506-bd0c-24c22100a3e6",
   "metadata": {},
   "outputs": [],
   "source": [
    "import pandas as pd\n",
    "\n",
    "# READ CSV FILES \n",
    "s = pd.read_csv('oly.csv')\n",
    "\n",
    "# READ CSV FILE n number Last 5 Row \n",
    "df = s.tail()\n",
    "\n",
    "# data types \n",
    "print (df.dtypes)\n"
   ]
  },
  {
   "cell_type": "code",
   "execution_count": null,
   "id": "28299a29-3def-4ab9-949c-5b068383f98c",
   "metadata": {},
   "outputs": [],
   "source": [
    "df = pd.read_csv('oly.csv', sep=';')\n",
    "print(df)"
   ]
  },
  {
   "cell_type": "code",
   "execution_count": null,
   "id": "63ce0cf8-e5b3-461e-ae12-360ba05718f3",
   "metadata": {},
   "outputs": [],
   "source": []
  },
  {
   "cell_type": "code",
   "execution_count": null,
   "id": "5ebae70c-3f13-4e4b-ad07-56a598e80e7d",
   "metadata": {},
   "outputs": [],
   "source": [
    "df = pd.read_csv('cars.csv')\n",
    "print(df.columns)"
   ]
  },
  {
   "cell_type": "code",
   "execution_count": null,
   "id": "db67a84b-897d-4fae-b9e2-79fbaa8502a5",
   "metadata": {},
   "outputs": [],
   "source": [
    "# you print only Price Rowa\n",
    "print(df['price'])"
   ]
  },
  {
   "cell_type": "code",
   "execution_count": null,
   "id": "b2f8c857-b8c1-4e55-9e32-c46b8e321766",
   "metadata": {},
   "outputs": [],
   "source": [
    "\n",
    "print(type(df['price']))"
   ]
  },
  {
   "cell_type": "code",
   "execution_count": null,
   "id": "df989503-10cc-45ab-906e-85e819609c52",
   "metadata": {},
   "outputs": [],
   "source": [
    "df = pd.read_csv('cars.csv')\n",
    "# print(df.columns)\n",
    "# print(df['price'])\n",
    "# print(df[df.price < 6300])\n",
    "# df = pd.read_csv('cars.csv', sep='.')\n",
    "print(df)\n"
   ]
  },
  {
   "cell_type": "markdown",
   "id": "244bc244-1b2e-4e26-a099-b8fd1076d45f",
   "metadata": {},
   "source": [
    "# How to Read Only Specific Columns From a CSV File Using Pandas"
   ]
  },
  {
   "cell_type": "code",
   "execution_count": null,
   "id": "7e7b0237-2677-41e5-a3c6-bc1c33163ad5",
   "metadata": {},
   "outputs": [],
   "source": [
    "columns = ['brand', 'model','price']\n",
    "df = pd.read_csv('cars.csv', usecols=columns)\n",
    "print(df.head(10))"
   ]
  },
  {
   "cell_type": "markdown",
   "id": "7685991f-23c6-41db-8ae6-65f45e896cdf",
   "metadata": {},
   "source": [
    "# How to Get Statistics For a Column in a CSV File Using Pandas"
   ]
  },
  {
   "cell_type": "code",
   "execution_count": null,
   "id": "e7456a63-a18a-414c-b9c7-805a7c3cfdd4",
   "metadata": {},
   "outputs": [],
   "source": [
    "df = pd.read_csv('cars.csv')\n",
    "print(df['price'].describe())"
   ]
  },
  {
   "cell_type": "markdown",
   "id": "cdded4ea-964d-4417-ab54-fa0f6eb0541b",
   "metadata": {},
   "source": [
    "# To read a CSV file in multiple chunks using Pandas, you can pass the chunksize argument to the read_csv function and loop through the data returned by the function."
   ]
  },
  {
   "cell_type": "code",
   "execution_count": null,
   "id": "a648e4fe-90c7-4c33-abc0-dad3e168d115",
   "metadata": {},
   "outputs": [],
   "source": [
    "for chunk in pd.read_csv('cars.csv', chunksize=4):\n",
    "    print(\"######## Chunk ########\")\n",
    "    print(chunk)\n",
    "    print(type(chunk))"
   ]
  },
  {
   "cell_type": "code",
   "execution_count": 9,
   "id": "39818d87-55f8-4c73-8403-530e14d65f10",
   "metadata": {},
   "outputs": [
    {
     "name": "stdout",
     "output_type": "stream",
     "text": [
      "         0   6300     toyota cruiser  2008  clean vehicle  274117   black  \\\n",
      "0        1   2899       ford      se  2011  clean vehicle  190552  silver   \n",
      "1        2   5350      dodge     mpv  2018  clean vehicle   39590  silver   \n",
      "2        3  25000       ford    door  2014  clean vehicle   64146    blue   \n",
      "3        4  27700  chevrolet    1500  2018  clean vehicle    6654     red   \n",
      "4        5   5700      dodge     mpv  2018  clean vehicle   45561   white   \n",
      "...    ...    ...        ...     ...   ...            ...     ...     ...   \n",
      "2493  2494   7800     nissan   versa  2019  clean vehicle   23609     red   \n",
      "2494  2495   9200     nissan   versa  2018  clean vehicle   34553  silver   \n",
      "2495  2496   9200     nissan   versa  2018  clean vehicle   31594  silver   \n",
      "2496  2497   9200     nissan   versa  2018  clean vehicle   32557   black   \n",
      "2497  2498   9200     nissan   versa  2018  clean vehicle   31371  silver   \n",
      "\n",
      "        jtezu11f88k007763  159348797  new jersey   usa   10 days left  \n",
      "0       2fmdk3gc4bbb02217  166951262   tennessee   usa    6 days left  \n",
      "1       3c4pdcgg5jt346413  167655728     georgia   usa    2 days left  \n",
      "2       1ftfw1et4efc23745  167753855    virginia   usa  22 hours left  \n",
      "3       3gcpcrec2jg473991  167763266     florida   usa  22 hours left  \n",
      "4       2c4rdgeg9jr237989  167655771       texas   usa    2 days left  \n",
      "...                   ...        ...         ...   ...            ...  \n",
      "2493    3n1cn7ap9kl880319  167722715  california   usa    1 days left  \n",
      "2494    3n1cn7ap5jl884088  167762225     florida   usa  21 hours left  \n",
      "2495    3n1cn7ap9jl884191  167762226     florida   usa  21 hours left  \n",
      "2496    3n1cn7ap3jl883263  167762227     florida   usa    2 days left  \n",
      "2497    3n1cn7ap4jl884311  167762228     florida   usa  21 hours left  \n",
      "\n",
      "[2498 rows x 13 columns]\n"
     ]
    }
   ],
   "source": [
    "import pandas as pd\n",
    "df = pd.read_csv('cars.csv',header = 1)\n",
    "print(df)"
   ]
  },
  {
   "cell_type": "code",
   "execution_count": null,
   "id": "fc6fb635-dd9b-43df-8ab6-940cc608d218",
   "metadata": {},
   "outputs": [],
   "source": []
  }
 ],
 "metadata": {
  "kernelspec": {
   "display_name": "Python 3 (ipykernel)",
   "language": "python",
   "name": "python3"
  },
  "language_info": {
   "codemirror_mode": {
    "name": "ipython",
    "version": 3
   },
   "file_extension": ".py",
   "mimetype": "text/x-python",
   "name": "python",
   "nbconvert_exporter": "python",
   "pygments_lexer": "ipython3",
   "version": "3.11.4"
  }
 },
 "nbformat": 4,
 "nbformat_minor": 5
}
