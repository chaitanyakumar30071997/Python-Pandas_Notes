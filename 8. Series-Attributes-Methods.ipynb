{
 "cells": [
  {
   "cell_type": "markdown",
   "id": "f0f90b73-5a61-4548-b776-54b3e16d64bd",
   "metadata": {},
   "source": [
    "# SERIES - ATTRIBUTES AND METHODS\n",
    "\n",
    "The Series in Pandas is a one-dimensional array that uses the Series() method to create a Series, but it also uses different built-in attributes and methods for basic functionalities.\n",
    "\n",
    "In this lesson, let us see such attributes and methods in Python Pandas with examples:\n",
    "\n",
    "1. dtype: Return the dtype.\n",
    "\n",
    "2. ndim: Return the Number of dimensions\n",
    "\n",
    "3. size: Return the number of elements.\n",
    "\n",
    "4. name: Return the name of the Series.\n",
    "\n",
    "5. hasnans: Returns True if NaNs are in the series.\n",
    "\n",
    "6. index: The index of the series\n",
    "\n",
    "\n",
    "7. head(): Return the first n rows.\n",
    "\n",
    "8. tail(): Return the last n rows.\n",
    "\n",
    "9. info(): Display the Summary of the series"
   ]
  },
  {
   "cell_type": "markdown",
   "id": "074c1f90-91da-49d6-a994-1a2fe57c568b",
   "metadata": {},
   "source": [
    "# PANDAS SERIES – DTYPE ATTRIBUTE\n",
    "\n",
    "The pandas.series.dtype is used to return the datatype of the Series.\n",
    "\n",
    "Let us now see an example to implement the dtype attribute in Python Pandas:"
   ]
  },
  {
   "cell_type": "code",
   "execution_count": 6,
   "id": "6c03b724-3d6a-4026-852b-c8efe34ac625",
   "metadata": {},
   "outputs": [
    {
     "name": "stdout",
     "output_type": "stream",
     "text": [
      "0    10\n",
      "1    34\n",
      "2    54\n",
      "3    45\n",
      "4    65\n",
      "5    88\n",
      "dtype: int64\n",
      "int64\n"
     ]
    }
   ],
   "source": [
    "import pandas as pd \n",
    "\n",
    "num =  [10,34,54,45,65,88]\n",
    "\n",
    "\n",
    "s = pd.Series(num)\n",
    "# Display Play the series\n",
    "print(s)\n",
    "\n",
    "# find data type by using dtype()\n",
    "print(s.dtype)\n",
    "\n"
   ]
  },
  {
   "cell_type": "markdown",
   "id": "9f514ea2-29aa-4636-b796-2e653ec205e0",
   "metadata": {},
   "source": [
    "# 2. PANDAS SERIES – NDIM ATTRIBUTE\n",
    "\n",
    "The pandas.series.ndim is used to return the number of dimensions of the Series.\n",
    "\n",
    "Let us now see an example to implement the ndim attribute in Python Pandas"
   ]
  },
  {
   "cell_type": "code",
   "execution_count": 19,
   "id": "75d55119-42d1-4234-9317-fb10468cc2d7",
   "metadata": {},
   "outputs": [
    {
     "name": "stdout",
     "output_type": "stream",
     "text": [
      "0    [10, 34, 54, 45, 65, 88]\n",
      "1    [43, 23, 65, 45, 76, 45]\n",
      "dtype: object\n",
      "check how many dimensions \n",
      " 1\n"
     ]
    }
   ],
   "source": [
    "import pandas as pd \n",
    "\n",
    "num =  [[10,34,54,45,65,88], [43,23,65,45,76,45]]\n",
    "\n",
    "\n",
    "s = pd.Series(num)\n",
    "# Display Play the series\n",
    "print(s)\n",
    "\n",
    "# check how many dimensions \n",
    "print('check how many dimensions \\n',s.ndim)\n",
    "\n"
   ]
  },
  {
   "cell_type": "markdown",
   "id": "db067d59-6cd2-46f3-8c24-4155aeb73de2",
   "metadata": {},
   "source": [
    "# 3. PANDAS SERIES - SIZE ATTRIBUTE\n",
    "\n",
    "The pandas.series.size is used to return the number of elements in the Pandas Series.\n",
    "\n",
    "Let us now see an example to implement the size attribute in Python Pandas"
   ]
  },
  {
   "cell_type": "code",
   "execution_count": 24,
   "id": "931427a9-27d1-42a0-995e-173a028d9675",
   "metadata": {},
   "outputs": [
    {
     "name": "stdout",
     "output_type": "stream",
     "text": [
      "0    10\n",
      "1    34\n",
      "2    54\n",
      "3    45\n",
      "4    65\n",
      "5    88\n",
      "dtype: int64\n",
      "Find the series size Attributes  \n",
      " 6\n"
     ]
    }
   ],
   "source": [
    "import pandas as pd \n",
    "\n",
    "num =  [10,34,54,45,65,88]\n",
    "\n",
    "\n",
    "s = pd.Series(num)\n",
    "# Display Play the series\n",
    "print(s)\n",
    "\n",
    "# check how many dimensions \n",
    "print('Find the series size Attributes  \\n',s.size)\n",
    "\n"
   ]
  },
  {
   "cell_type": "markdown",
   "id": "d0707bd6-5f8e-4025-a161-67a0d0846c1e",
   "metadata": {},
   "source": [
    "# 4. PANDAS SERIES – NAME ATTRIBUTE\n",
    "\n",
    "The pandas.series.name is used to return the name of the Series in Pandas.\n",
    "\n",
    "Let us now see an example to implement the name attribute in Python Pandas"
   ]
  },
  {
   "cell_type": "code",
   "execution_count": 25,
   "id": "d48433ab-e3cb-426c-b7da-e4fb74997864",
   "metadata": {},
   "outputs": [
    {
     "name": "stdout",
     "output_type": "stream",
     "text": [
      "0    10\n",
      "1    34\n",
      "2    54\n",
      "3    45\n",
      "4    65\n",
      "5    88\n",
      "Name: MyNumberSerice, dtype: int64\n",
      "which type of Attributes:-   \n",
      " MyNumberSerice\n"
     ]
    }
   ],
   "source": [
    "import pandas as pd \n",
    "\n",
    "num =  [10,34,54,45,65,88]\n",
    "\n",
    "\n",
    "s = pd.Series(num, name = 'MyNumberSerice')\n",
    "# Display Play the series\n",
    "print(s)\n",
    "\n",
    "# which type of Attributes \n",
    "print('which type of Attributes:-   \\n',s.name)\n",
    "\n"
   ]
  },
  {
   "cell_type": "code",
   "execution_count": 27,
   "id": "370d7cc3-0790-4d09-8b0b-7dfc3da345f5",
   "metadata": {},
   "outputs": [
    {
     "name": "stdout",
     "output_type": "stream",
     "text": [
      "Requirement already satisfied: Numpy in /data/user/0/ru.iiec.pydroid3/files/aarch64-linux-android/lib/python3.11/site-packages (1.26.1)\n",
      "Note: you may need to restart the kernel to use updated packages.\n"
     ]
    }
   ],
   "source": [
    "pip install Numpy"
   ]
  },
  {
   "cell_type": "markdown",
   "id": "76305b41-533e-4c21-b123-c872a62e6df3",
   "metadata": {},
   "source": [
    "# 5. PANDAS SERIES – HASNANS ATTRIBUTE\n",
    "\n",
    "The pandas.series.hasnans attribute returns True if NaNs are in the Pandas Series.\n",
    "\n",
    "Let us now see an example to implement the hasnans attribute in Python Pandas:"
   ]
  },
  {
   "cell_type": "code",
   "execution_count": 33,
   "id": "5a800619-fca6-4beb-b1b5-50856a3e9876",
   "metadata": {},
   "outputs": [
    {
     "data": {
      "application/javascript": [
       "\n",
       "        if (window._pyforest_update_imports_cell) { window._pyforest_update_imports_cell('import numpy as np'); }\n",
       "    "
      ],
      "text/plain": [
       "<IPython.core.display.Javascript object>"
      ]
     },
     "metadata": {},
     "output_type": "display_data"
    },
    {
     "name": "stdout",
     "output_type": "stream",
     "text": [
      "0    10.0\n",
      "1    34.0\n",
      "2    54.0\n",
      "3    45.0\n",
      "4    65.0\n",
      "5    88.0\n",
      "6     NaN\n",
      "Name: MyNumberSerice, dtype: float64\n",
      "Dose series of the nan return True:-   \n",
      " True\n"
     ]
    }
   ],
   "source": [
    "import pandas as pd \n",
    "import numpy as ny\n",
    "\n",
    "num =  [10,34,54,45,65,88,np.nan] # it's return True \n",
    "Num = [54,45,76,44,98,64,84] # it's return Flase\n",
    "\n",
    "\n",
    "s = pd.Series(num, name = 'MyNumberSerice')\n",
    "# Display Play the series\n",
    "print(s)\n",
    "\n",
    "# which type of Attributes \n",
    "print('Dose series of the nan return True:-   \\n',s.hasnans)\n",
    "\n"
   ]
  },
  {
   "cell_type": "markdown",
   "id": "75151a55-e3a0-41ff-8966-2758b887f9da",
   "metadata": {},
   "source": [
    "# 6. PANDAS SERIES - INDEX ATTRIBUTE\n",
    "\n",
    "The pandas.series.index attribute is used to display the index of the Pandas Series.\n",
    "\n",
    "Let us now see an example to implement the index attribute in Python"
   ]
  },
  {
   "cell_type": "code",
   "execution_count": 40,
   "id": "2a6dde4e-b4e5-4277-b4ec-7a67f2b485b3",
   "metadata": {},
   "outputs": [
    {
     "name": "stdout",
     "output_type": "stream",
     "text": [
      "num1    10\n",
      "num2    34\n",
      "num3    54\n",
      "num4    45\n",
      "num5    65\n",
      "Name: MyNumberSerice, dtype: int64\n",
      "Series of index :- \n",
      " 54\n"
     ]
    }
   ],
   "source": [
    "import pandas as pd \n",
    "\n",
    "num =  [10,34,54,45,65]\n",
    "\n",
    "\n",
    "s = pd.Series(num,index = ['num1','num2','num3','num4','num5'], name = 'MyNumberSerice')\n",
    "# Display Play the series\n",
    "print(s)\n",
    "\n",
    "# find the index num3 \n",
    "print('Series of index :- \\n',s['num3'])\n",
    "\n"
   ]
  },
  {
   "cell_type": "markdown",
   "id": "239c4814-7add-4556-87b2-c40b494b8c56",
   "metadata": {},
   "source": [
    "# 7. PANDAS SERIES – HEAD() METHOD\n",
    "\n",
    "The pandas.series.head() method is used to return the first n rows of the Pandas Series.\n",
    "\n",
    "Let us now see an example to implement the head() method in Python Pandas:"
   ]
  },
  {
   "cell_type": "code",
   "execution_count": 42,
   "id": "417e8bb6-cb69-4150-af4a-e10dd4c0244a",
   "metadata": {},
   "outputs": [
    {
     "name": "stdout",
     "output_type": "stream",
     "text": [
      "num1    10\n",
      "num2    34\n",
      "num3    54\n",
      "num4    45\n",
      "num5    65\n",
      "dtype: int64\n",
      "Series of index :- \n",
      " num1    10\n",
      "num2    34\n",
      "num3    54\n",
      "dtype: int64\n"
     ]
    }
   ],
   "source": [
    "import pandas as pd \n",
    "\n",
    "num =  [10,34,54,45,65]\n",
    "\n",
    "\n",
    "s = pd.Series(num,index = ['num1','num2','num3','num4','num5'])\n",
    "# Display Play the series\n",
    "print(s)\n",
    "\n",
    "# Display the First n Row\n",
    "print('Display the First n Row:- \\n',s.head(3))\n",
    "\n"
   ]
  },
  {
   "cell_type": "markdown",
   "id": "922c2261-30eb-49ad-a65f-e8e0c4557dc5",
   "metadata": {},
   "source": [
    "# 8. PANDAS SERIES – TAIL() METHOD\n",
    "\n",
    "The pandas.series.tail() method is used to return the last n rows of the Pandas Series.\n",
    "\n",
    "Let us now see an example to implement the tail() method in Python Pandas:"
   ]
  },
  {
   "cell_type": "code",
   "execution_count": 43,
   "id": "0e8b69cc-dc75-48bc-bf0e-6ea118c7decf",
   "metadata": {},
   "outputs": [
    {
     "name": "stdout",
     "output_type": "stream",
     "text": [
      "num1    10\n",
      "num2    34\n",
      "num3    54\n",
      "num4    45\n",
      "num5    65\n",
      "dtype: int64\n",
      "Display the last n Row:- \n",
      " num3    54\n",
      "num4    45\n",
      "num5    65\n",
      "dtype: int64\n"
     ]
    }
   ],
   "source": [
    "import pandas as pd \n",
    "\n",
    "num =  [10,34,54,45,65]\n",
    "\n",
    "\n",
    "s = pd.Series(num,index = ['num1','num2','num3','num4','num5'])\n",
    "# Display Play the series\n",
    "print(s)\n",
    "\n",
    "# Display the last n Row\n",
    "print('Display the last n Row:- \\n',s.tail(3))\n",
    "\n"
   ]
  },
  {
   "cell_type": "markdown",
   "id": "a0effd9e-3f86-4229-9e97-0049947ed4f4",
   "metadata": {},
   "source": [
    "# 9. PANDAS SERIES – INFO() METHOD\n",
    "\n",
    "The pandas.series.info() method is used to display the summary of the Pandas Series.\n",
    "\n",
    "Let us now see an example to implement the info() method in Python Pandas:"
   ]
  },
  {
   "cell_type": "code",
   "execution_count": 48,
   "id": "a743ab24-b2b2-46a7-87dc-da3cb3edc426",
   "metadata": {},
   "outputs": [
    {
     "name": "stdout",
     "output_type": "stream",
     "text": [
      "num1    10\n",
      "num2    34\n",
      "num3    54\n",
      "num4    45\n",
      "num5    65\n",
      "dtype: int64\n",
      "<class 'pandas.core.series.Series'>\n",
      "Index: 5 entries, num1 to num5\n",
      "Series name: None\n",
      "Non-Null Count  Dtype\n",
      "--------------  -----\n",
      "5 non-null      int64\n",
      "dtypes: int64(1)\n",
      "memory usage: 80.0+ bytes\n",
      "information about attending :- \n",
      " None\n"
     ]
    }
   ],
   "source": [
    "import pandas as pd \n",
    "\n",
    "num =  [10,34,54,45,65]\n",
    "\n",
    "\n",
    "s = pd.Series(num,index = ['num1','num2','num3','num4','num5'])\n",
    "# Display Play the series\n",
    "print(s)\n",
    "\n",
    "# Display the last n Row\n",
    "print('information about attending :- \\n',s.info())\n",
    "\n"
   ]
  },
  {
   "cell_type": "code",
   "execution_count": null,
   "id": "1db82725-2fd6-4537-bf14-1ec8af2aba9b",
   "metadata": {},
   "outputs": [],
   "source": []
  }
 ],
 "metadata": {
  "kernelspec": {
   "display_name": "Python 3 (ipykernel)",
   "language": "python",
   "name": "python3"
  },
  "language_info": {
   "codemirror_mode": {
    "name": "ipython",
    "version": 3
   },
   "file_extension": ".py",
   "mimetype": "text/x-python",
   "name": "python",
   "nbconvert_exporter": "python",
   "pygments_lexer": "ipython3",
   "version": "3.11.4"
  }
 },
 "nbformat": 4,
 "nbformat_minor": 5
}
