{
 "cells": [
  {
   "cell_type": "markdown",
   "id": "41d900c5-7ef5-49f8-a6be-8d2c2bd820c8",
   "metadata": {},
   "source": [
    "# PANDAS - ITERATE OVER ROWS & COLUMNS\n",
    "\n",
    "In this lesson, we will learn how to iterate over rows and columns in a Pandas DataFrame. Let's see some examples of how to:\n",
    "\n",
    "I. Iterate over rows\n",
    "\n",
    "II. Iterate over columns"
   ]
  },
  {
   "cell_type": "markdown",
   "id": "b56685e7-0103-4ccb-b4b6-bca72f1daeb3",
   "metadata": {},
   "source": [
    "# PANDAS - ITERATE OVER ROWS\n",
    "\n",
    "To iterate over the rows, use the following methods in Pandas:\n",
    "\n",
    "1. iterrows(): To Iterate over the rows\n",
    "\n",
    "2. itertuples(): To Iterate over the rows\n",
    "\n",
    "Let us understand them one by one:"
   ]
  },
  {
   "cell_type": "code",
   "execution_count": 10,
   "id": "42f14d8c-082d-4c0c-a74c-4a4a48e26662",
   "metadata": {},
   "outputs": [
    {
     "name": "stdout",
     "output_type": "stream",
     "text": [
      "   Emp-Name Addrea  EID\n",
      "0  saiKumar      N  101\n",
      "1      Mani      S  102\n",
      "2      chai      W  103\n",
      "3      Moni      E  104\n",
      "Index: 0, Emp-Name: saiKumar, Addrea: N, EID: 101\n",
      "Index: 1, Emp-Name: Mani, Addrea: S, EID: 102\n",
      "Index: 2, Emp-Name: chai, Addrea: W, EID: 103\n",
      "Index: 3, Emp-Name: Moni, Addrea: E, EID: 104\n"
     ]
    }
   ],
   "source": [
    "import pandas as pd\n",
    "\n",
    "data = {\n",
    "    'Emp-Name': ['saiKumar', 'Mani', 'chai', 'Moni'],\n",
    "    'Addrea': ['N', 'S', 'W', 'E'],\n",
    "    'EID': [101, 102, 103, 104]\n",
    "}\n",
    "\n",
    "df = pd.DataFrame(data)\n",
    "print(df)\n",
    "\n",
    "# Iterating over rows using iterrows()\n",
    "for index, row in df.iterrows():\n",
    "    print(f\"Index: {index}, Emp-Name: {row['Emp-Name']}, Addrea: {row['Addrea']}, EID: {row['EID']}\")\n",
    "    "
   ]
  },
  {
   "cell_type": "code",
   "execution_count": 12,
   "id": "1accab91-04c6-4979-a56d-b39247b283be",
   "metadata": {},
   "outputs": [
    {
     "name": "stdout",
     "output_type": "stream",
     "text": [
      "Pandas(Index=0, Name='Alice', Age=25)\n",
      "Pandas(Index=1, Name='Bob', Age=30)\n",
      "Pandas(Index=2, Name='Charlie', Age=35)\n"
     ]
    }
   ],
   "source": [
    "import pandas as pd\n",
    "\n",
    "data = {\n",
    "    'Name': ['Alice', 'Bob', 'Charlie'],\n",
    "    'Age': [25, 30, 35]\n",
    "}\n",
    "\n",
    "df = pd.DataFrame(data)\n",
    "\n",
    "for row in df.itertuples():\n",
    "    print (row)\n",
    "    \n",
    "    "
   ]
  },
  {
   "cell_type": "code",
   "execution_count": null,
   "id": "1e399a7c-977f-4d94-840c-d78e242eff4a",
   "metadata": {},
   "outputs": [],
   "source": []
  },
  {
   "cell_type": "code",
   "execution_count": 10,
   "id": "c029f9c9-adc2-4600-b062-a566766b425e",
   "metadata": {},
   "outputs": [
    {
     "name": "stdout",
     "output_type": "stream",
     "text": [
      "   Emp-Name Addrea  EID\n",
      "0  saiKumar      N  101\n",
      "1      Mani      S  102\n",
      "2      chai      W  103\n",
      "3      Moni      E  104\n",
      "Index: 0, Emp-Name: saiKumar, Addrea: N, EID: 101\n",
      "Index: 1, Emp-Name: Mani, Addrea: S, EID: 102\n",
      "Index: 2, Emp-Name: chai, Addrea: W, EID: 103\n",
      "Index: 3, Emp-Name: Moni, Addrea: E, EID: 104\n"
     ]
    }
   ],
   "source": [
    "import pandas as pd\n",
    "\n",
    "data = {\n",
    "    'Emp-Name': ['saiKumar', 'Mani', 'chai', 'Moni'],\n",
    "    'Addrea': ['N', 'S', 'W', 'E'],\n",
    "    'EID': [101, 102, 103, 104]\n",
    "}\n",
    "\n",
    "df = pd.DataFrame(data)\n",
    "print(df)\n",
    "\n",
    "# Iterating over rows using iterrows()\n",
    "for index, row in df.iterrows():\n",
    "    print(f\"Index: {index}, Emp-Name: {row['Emp-Name']}, Addrea: {row['Addrea']}, EID: {row['EID']}\")\n",
    "    "
   ]
  },
  {
   "cell_type": "code",
   "execution_count": null,
   "id": "46d8d084-e108-4f41-8eb6-88fd90c070de",
   "metadata": {},
   "outputs": [],
   "source": []
  },
  {
   "cell_type": "code",
   "execution_count": 13,
   "id": "45c83cf0-dded-403b-837b-f064fff92a3e",
   "metadata": {},
   "outputs": [
    {
     "name": "stdout",
     "output_type": "stream",
     "text": [
      "(0, Name    Alice\n",
      "Age        25\n",
      "Name: 0, dtype: object)\n",
      "(1, Name    Bob\n",
      "Age      30\n",
      "Name: 1, dtype: object)\n",
      "(2, Name    Charlie\n",
      "Age          35\n",
      "Name: 2, dtype: object)\n"
     ]
    }
   ],
   "source": [
    "import pandas as pd\n",
    "\n",
    "data = {\n",
    "    'Name': ['Alice', 'Bob', 'Charlie'],\n",
    "    'Age': [25, 30, 35]\n",
    "}\n",
    "\n",
    "df = pd.DataFrame(data)\n",
    "\n",
    "for row in df.iterrows():\n",
    "    print (row)\n",
    "    \n",
    "    "
   ]
  },
  {
   "cell_type": "code",
   "execution_count": null,
   "id": "9e38f7c3-acd9-46d1-bd62-79342323f928",
   "metadata": {},
   "outputs": [],
   "source": []
  }
 ],
 "metadata": {
  "kernelspec": {
   "display_name": "Python 3 (ipykernel)",
   "language": "python",
   "name": "python3"
  },
  "language_info": {
   "codemirror_mode": {
    "name": "ipython",
    "version": 3
   },
   "file_extension": ".py",
   "mimetype": "text/x-python",
   "name": "python",
   "nbconvert_exporter": "python",
   "pygments_lexer": "ipython3",
   "version": "3.11.4"
  }
 },
 "nbformat": 4,
 "nbformat_minor": 5
}
