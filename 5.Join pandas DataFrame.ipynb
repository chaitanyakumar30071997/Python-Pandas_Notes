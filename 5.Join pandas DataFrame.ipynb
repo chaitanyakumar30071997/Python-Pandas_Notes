{
 "cells": [
  {
   "cell_type": "markdown",
   "id": "3aa53303-788d-4673-aae9-c620611a5372",
   "metadata": {},
   "source": [
    "# JOIN PANDAS DATAFRAME\n",
    "\n",
    "In Python, we can easily join Pandas DataFrames using the join() method. This will join the columns of the two different DataFrames.\n",
    "\n",
    "Let us see an example and create two DataFrames and join them:"
   ]
  },
  {
   "cell_type": "code",
   "execution_count": 7,
   "id": "357c7fd8-cc58-4ffb-9874-7c9591922538",
   "metadata": {},
   "outputs": [
    {
     "name": "stdout",
     "output_type": "stream",
     "text": [
      "\n",
      " DataFrame of Marutri cars\n",
      "             Modiles                   price-Maruti \n",
      "0      Maruti Alto  Rs. 3.60 lakh to Rs. 5.20 lakh\n",
      "1  Maruti Alto K10        Rs. 4 lakh to Rs. 6 lakh\n",
      "2  Maruti S-Presso  Rs. 4.25 lakh to Rs. 6.20 lakh\n",
      "3      Maruti Eeco  Rs. 5.50 lakh to Rs. 7.40 lakh\n",
      "4   Maruti Wagon R    Rs. 8.20 lakh to Rs. 14 lakh\n",
      "\n",
      " Data Frame of Hydundai Cars \n",
      "              Hyundai-cars                      price-Hyundai\n",
      "0  Hyundai Grand i10 Nios   Rs. 5.68 lakhs to Rs. 8.46 lakhs\n",
      "1            Hyundai Aura   Rs. 6.30 lakhs to Rs. 8.87 lakhs\n",
      "2             Hyundai i20  Rs. 7.19 lakhs to Rs. 11.83 lakhs\n",
      "3           Hyundai Venue  Rs. 7.68 lakhs to Rs. 13.11 lakhs\n",
      "4      Hyundai i20 N Line  Rs. 9.64 lakhs to Rs. 15.72 lakhs\n",
      "\n",
      " display two modile in one table            Modiles                   price-Maruti             Hyundai-cars  \\\n",
      "0      Maruti Alto  Rs. 3.60 lakh to Rs. 5.20 lakh  Hyundai Grand i10 Nios   \n",
      "1  Maruti Alto K10        Rs. 4 lakh to Rs. 6 lakh            Hyundai Aura   \n",
      "2  Maruti S-Presso  Rs. 4.25 lakh to Rs. 6.20 lakh             Hyundai i20   \n",
      "3      Maruti Eeco  Rs. 5.50 lakh to Rs. 7.40 lakh           Hyundai Venue   \n",
      "4   Maruti Wagon R    Rs. 8.20 lakh to Rs. 14 lakh      Hyundai i20 N Line   \n",
      "\n",
      "                       price-Hyundai  \n",
      "0   Rs. 5.68 lakhs to Rs. 8.46 lakhs  \n",
      "1   Rs. 6.30 lakhs to Rs. 8.87 lakhs  \n",
      "2  Rs. 7.19 lakhs to Rs. 11.83 lakhs  \n",
      "3  Rs. 7.68 lakhs to Rs. 13.11 lakhs  \n",
      "4  Rs. 9.64 lakhs to Rs. 15.72 lakhs  \n"
     ]
    }
   ],
   "source": [
    "import pandas as pd\n",
    "Maruti =  {\n",
    "  'Modiles' :  ['Maruti Alto','Maruti Alto K10','Maruti S-Presso','Maruti Eeco','Maruti Wagon R',],\n",
    "   'price-Maruti ' : ['Rs. 3.60 lakh to Rs. 5.20 lakh','Rs. 4 lakh to Rs. 6 lakh','Rs. 4.25 lakh to Rs. 6.20 lakh','Rs. 5.50 lakh to Rs. 7.40 lakh','Rs. 8.20 lakh to Rs. 14 lakh']\n",
    "    \n",
    "\n",
    "}\n",
    "\n",
    "Hyundai = {\n",
    "    'Hyundai-cars' : ['Hyundai Grand i10 Nios','Hyundai Aura','Hyundai i20','Hyundai Venue','Hyundai i20 N Line'],\n",
    "    'price-Hyundai'  : ['Rs. 5.68 lakhs to Rs. 8.46 lakhs','Rs. 6.30 lakhs to Rs. 8.87 lakhs','Rs. 7.19 lakhs to Rs. 11.83 lakhs','Rs. 7.68 lakhs to Rs. 13.11 lakhs','Rs. 9.64 lakhs to Rs. 15.72 lakhs']\n",
    "}\n",
    "\n",
    "data1 = pd.DataFrame(Maruti)\n",
    "print('\\n DataFrame of Marutri cars\\n ',data1)\n",
    "data2 = pd.DataFrame(Hyundai)\n",
    "print('\\n Data Frame of Hydundai Cars \\n',data2)\n",
    "\n",
    "# join two Dataframe in one table \n",
    "two_modile = data1.join(data2)\n",
    "print ('\\n display two modile in one table',two_modile)\n"
   ]
  },
  {
   "cell_type": "code",
   "execution_count": null,
   "id": "fa3a18b7-78df-49dc-9352-3faafc88d694",
   "metadata": {},
   "outputs": [],
   "source": []
  }
 ],
 "metadata": {
  "kernelspec": {
   "display_name": "Python 3 (ipykernel)",
   "language": "python",
   "name": "python3"
  },
  "language_info": {
   "codemirror_mode": {
    "name": "ipython",
    "version": 3
   },
   "file_extension": ".py",
   "mimetype": "text/x-python",
   "name": "python",
   "nbconvert_exporter": "python",
   "pygments_lexer": "ipython3",
   "version": "3.11.4"
  }
 },
 "nbformat": 4,
 "nbformat_minor": 5
}
