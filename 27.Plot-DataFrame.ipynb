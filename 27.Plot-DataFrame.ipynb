{
 "cells": [
  {
   "cell_type": "markdown",
   "id": "a6c16f46-0f28-4bda-a8a4-096bb25fc399",
   "metadata": {},
   "source": [
    "# PANDAS - PLOTTING\n",
    "\n",
    "To plot in Pandas, we need to use the plot() method and the Matplotlib library. The pyplot module from Matplotlib is also used for plotting in Pandas. The pyplot.show() is used to display the figure.\n",
    "\n",
    "First, install Matplotlib and run your first example:\n",
    "\n",
    "Example1 Plot a DataFrame in Pandas\n",
    "\n",
    "Let us now see how to plot:\n",
    "\n",
    "Example 2: Histogram\n",
    "\n",
    "Example 3: Pie Chart\n",
    "\n",
    "Example 4: Scatter Plot\n",
    "\n",
    "Example 5: Area Plot"
   ]
  },
  {
   "cell_type": "code",
   "execution_count": null,
   "id": "8e5a777e-d4ad-4226-9487-1f6676a3e0ba",
   "metadata": {},
   "outputs": [],
   "source": [
    "import pandas as pd\n",
    "import matplotlib.pyplot as plt\n",
    "\n",
    "data = {\n",
    "   ' laxmi' :  [76,46,87,35,87,77],\n",
    "    ' siri' :  [98,56,97,46,94,58],\n",
    "    'sneha ' : [98,68,87,95,58,47],\n",
    "    'pri' :    [98,57,49, 84,84,58]\n",
    "}\n",
    "\n",
    "df = pd.DataFrame(data)\n",
    "\n",
    "df.plot()\n",
    "\n",
    "plt.show()\n",
    "\n",
    "\n"
   ]
  },
  {
   "cell_type": "code",
   "execution_count": null,
   "id": "dfbe4368-8350-421a-a5ec-7b532f7a484e",
   "metadata": {},
   "outputs": [],
   "source": [
    "import matplotlib.pyplot as plt\n",
    "\n",
    "plt.plot([1, 2, 3], [4, 5, 6])\n",
    "plt.show()\n"
   ]
  },
  {
   "cell_type": "markdown",
   "id": "c1e4db13-6277-4c81-87f9-2b2dc7ba0885",
   "metadata": {},
   "source": [
    "# 2. PLOT - HISTOGRAM\n",
    "\n",
    "Histogram is a graphical representation to show frequency distribution.\n",
    "\n",
    "We will create a Histogram here. Set the kind argument of the plot() method to hist. For this, we only need a single column."
   ]
  },
  {
   "cell_type": "code",
   "execution_count": null,
   "id": "9cabccbe-acb7-4d4a-81f9-9c6b23884778",
   "metadata": {},
   "outputs": [],
   "source": [
    "import pandas as pd\n",
    "import matplotlib.pyplot as plt\n",
    "\n",
    "data = {\n",
    "   ' laxmi' :  [76,46,87,35,87,77],\n",
    "    ' siri' :  [98,56,97,46,94,58],\n",
    "    'sneha ' : [98,68,87,95,58,47],\n",
    "    'pri' :    [98,57,49, 84,84,58]\n",
    "}\n",
    "\n",
    "df = pd.DataFrame(data)\n",
    "\n",
    "df['laxmi'].plot(kind = 'sneha')\n",
    "\n",
    "plt.show()\n",
    "\n",
    "\n"
   ]
  },
  {
   "cell_type": "code",
   "execution_count": null,
   "id": "a46394b8-0569-4141-bbb3-54e414ee4d60",
   "metadata": {},
   "outputs": [],
   "source": [
    "import pandas as pd\n",
    "\n",
    "# Sample data\n",
    "data = {'Name': ['Alice', 'Bob', 'Charlie'], 'Age': [25, 30, 35]}\n",
    "df = pd.DataFrame(data)\n",
    "\n",
    "# Correct column name\n",
    "df.plot(kind='bar', x='Alice', y='Bob')\n"
   ]
  },
  {
   "cell_type": "markdown",
   "id": "8d1b4c1b-6840-4dd6-8457-b199b6d52259",
   "metadata": {},
   "source": [
    "# 3. PLOT - PIE CHART\n",
    "\n",
    "Pie Chart displays data in a pictorial form, divided into slices.\n",
    "\n",
    "We will create a Pie Chart here. Use the plot.pie() method to draw a Pie Chart. Let us see an example:"
   ]
  },
  {
   "cell_type": "code",
   "execution_count": null,
   "id": "7e04af9f-78e1-47a0-b057-b11fa5b717a0",
   "metadata": {},
   "outputs": [],
   "source": []
  },
  {
   "cell_type": "code",
   "execution_count": null,
   "id": "f8499c16-33b5-4249-86dd-838b36413c9f",
   "metadata": {},
   "outputs": [],
   "source": [
    "import pandas as pd\n",
    "import matplotlib.pyplot as plt\n",
    "\n",
    "data = {\n",
    "   ' laxmi' :  [76,46,87,35,87,77],\n",
    "    ' siri' :  [98,56,97,46,94,58],\n",
    "    'sneha ' : [98,68,87,95,58,47],\n",
    "    'pri' :    [98,57,49, 84,84,58]\n",
    "}\n",
    "\n",
    "df = pd.DataFrame(data)\n",
    "\n",
    "df.plot()\n",
    "\n",
    "plt.show()\n",
    "\n",
    "\n"
   ]
  },
  {
   "cell_type": "markdown",
   "id": "c3a8e769-1136-4765-9f7b-d2771542b03e",
   "metadata": {},
   "source": [
    "# 4. PLOT - SCATTER PLOT\n",
    "\n",
    "Scatter Plot is a chart that displays the relationship between two variables. Each value in the data set is represented by a dot.\n",
    "\n",
    "We will create a Scatter Plot here. Set the kind argument of the plot() method to scatter. For this, we will also set the x-axis and y-axis.\n",
    "\n",
    "Let us see an example:"
   ]
  },
  {
   "cell_type": "code",
   "execution_count": null,
   "id": "e2e56a1b-9e8d-4a43-8443-3b64242e7da6",
   "metadata": {},
   "outputs": [],
   "source": [
    "import pandas as pd\n",
    "import matplotlib.pyplot as plt\n",
    "\n",
    "data = {\n",
    "   ' laxmi' :  [76,46,87,35,87,77],\n",
    "    ' siri' :  [98,56,97,46,94,58],\n",
    "    'sneha ' : [98,68,87,95,58,47],\n",
    "    'pri' :    [98,57,49, 84,84,58]\n",
    "}\n",
    "\n",
    "df = pd.DataFrame(data)\n",
    "\n",
    "df.plot(kind = 'scatter',x='laxmi',y = 'pri')\n",
    "\n",
    "plt.show()\n",
    "\n",
    "\n"
   ]
  },
  {
   "cell_type": "code",
   "execution_count": 24,
   "id": "2e781308-9f23-462a-833f-35901603daea",
   "metadata": {},
   "outputs": [],
   "source": [
    "import pandas as pd\n",
    "import matplotlib.pyplot as plt\n",
    "\n",
    "# Sample data\n",
    "data = {'Name': ['Alice', 'Bob', 'Charlie'], 'Age': [25, 30, 35]}\n",
    "df = pd.DataFrame(data)\n",
    "\n",
    "# Plotting the data\n",
    "df.plot(kind='bar', x='Name', y='Age')\n",
    "plt.show()\n"
   ]
  },
  {
   "cell_type": "markdown",
   "id": "520ab9e7-1041-4d1e-88ef-bde4ab3377b5",
   "metadata": {},
   "source": [
    "# 5. PLOT-AREA PLOT\n",
    "\n",
    "Area Plot displays quantitative data visually. The area between axis and line are commonly filled with colors or textures.\n",
    "\n",
    "We will create an Area Plot here. Use the plot.area() method to draw an Area Plot.\n",
    "\n",
    "Let us see an example:"
   ]
  },
  {
   "cell_type": "code",
   "execution_count": null,
   "id": "6e582b82-9297-49ae-9c04-f278b53f70ef",
   "metadata": {},
   "outputs": [],
   "source": [
    "import pandas as pd\n",
    "import matplotlib.pyplot as plt\n",
    "\n",
    "data = {\n",
    "   ' laxmi' :  [76,46,87,35,87,77],\n",
    "    ' siri' :  [98,56,97,46,94,58],\n",
    "    'sneha ' : [98,68,87,95,58,47],\n",
    "    'pri' :    [98,57,49, 84,84,58]\n",
    "}\n",
    "\n",
    "df = pd.DataFrame(data)\n",
    "\n",
    "df.plot.area()\n",
    "\n",
    "dff = plt.show()\n",
    "\n",
    "\n"
   ]
  },
  {
   "cell_type": "code",
   "execution_count": null,
   "id": "454ef0b3-4c50-4b72-907d-beb2f2b019e8",
   "metadata": {},
   "outputs": [],
   "source": []
  },
  {
   "cell_type": "code",
   "execution_count": null,
   "id": "2d138e5d-0aaf-4f64-803c-a8f2a75f8d84",
   "metadata": {},
   "outputs": [],
   "source": []
  },
  {
   "cell_type": "code",
   "execution_count": null,
   "id": "4a56dc20-a66d-413e-a866-49c4c39d65ab",
   "metadata": {},
   "outputs": [],
   "source": []
  }
 ],
 "metadata": {
  "kernelspec": {
   "display_name": "Python 3 (ipykernel)",
   "language": "python",
   "name": "python3"
  },
  "language_info": {
   "codemirror_mode": {
    "name": "ipython",
    "version": 3
   },
   "file_extension": ".py",
   "mimetype": "text/x-python",
   "name": "python",
   "nbconvert_exporter": "python",
   "pygments_lexer": "ipython3",
   "version": "3.11.4"
  }
 },
 "nbformat": 4,
 "nbformat_minor": 5
}
