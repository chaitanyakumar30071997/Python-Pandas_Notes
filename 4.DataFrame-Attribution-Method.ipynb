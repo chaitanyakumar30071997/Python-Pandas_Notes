{
 "cells": [
  {
   "cell_type": "markdown",
   "id": "39f5fe06-4654-4e62-9c26-fdcdcf10fc9b",
   "metadata": {},
   "source": [
    "\n",
    "# DATAFRAME - ATTRIBUTES AND METHODS\n",
    "\n",
    "The Pandas DataFrame is a Two-dimensional, tabular data, that uses the DataFrame() method to create a DataFrame. It also uses different built-in attributes and methods for basic functionalities. In this lesson, let us see such attributes and methods in Python Pandas with examples:\n",
    "\n",
    "1. dtypes: Return the dtypes in the DataFrame\n",
    "\n",
    "2. ndim: Return the number of dimensions of the DataFrame\n",
    "\n",
    "3. size: Return the number of elements in the DataFrame.\n",
    "\n",
    "4. shape: Return the dimensionality of the DataFramein the form of a tuple.\n",
    "\n",
    "5. index: Return the index of the DataFrame\n",
    "\n",
    "6. T: Transpose the rows and columns\n",
    "\n",
    "7. head(): Return the first n rows.\n",
    "\n",
    "8. tail(): Return the last n rows.\n",
    "\n"
   ]
  },
  {
   "cell_type": "code",
   "execution_count": 9,
   "id": "66064841-e5dc-437b-bad9-f2f5915b1b0c",
   "metadata": {},
   "outputs": [
    {
     "name": "stdout",
     "output_type": "stream",
     "text": [
      "          student  marks  ranks\n",
      "student-1   laxmi      1      1\n",
      "student-2     sai      5      2\n",
      "student-3  ganesh      4      3\n",
      "student-4   paven      6      4\n",
      "student-5    mani      7      5\n",
      "\n",
      " Data Types is  =\n",
      "  student    object\n",
      "marks       int64\n",
      "ranks       int64\n",
      "dtype: object\n"
     ]
    }
   ],
   "source": [
    "import pandas as pd\n",
    "\n",
    "data = {\n",
    "\n",
    "    'student': ['laxmi','sai','ganesh','paven','mani'],\n",
    "    'marks' : [1,5,4,6,7],\n",
    "    'ranks' : [1,2,3,4,5]\n",
    "    \n",
    "}\n",
    "df = pd.DataFrame(data, index = ['student-1','student-2','student-3','student-4','student-5'])\n",
    "\n",
    "print(df)\n",
    "\n",
    "# Type of datframe displays \n",
    "print('\\n Data Types is  =\\n ', df.dtypes)"
   ]
  },
  {
   "cell_type": "markdown",
   "id": "750da6b4-59c8-4dea-bd3c-fbeeb826d53e",
   "metadata": {},
   "source": [
    "# PANDAS DATAFRAME – NDIM\n",
    "\n",
    "1. The pandas.DataFrame.ndim is used to return the number of dimensions of the DataFrame\n",
    "\n",
    "2. Let us now see an example to implement the ndim attribute in Python Pandas:"
   ]
  },
  {
   "cell_type": "code",
   "execution_count": 12,
   "id": "b09db1a8-b861-40d5-8d83-c2eb093e68ca",
   "metadata": {},
   "outputs": [
    {
     "name": "stdout",
     "output_type": "stream",
     "text": [
      "          student  marks  ranks\n",
      "student-1   laxmi      1      1\n",
      "student-2     sai      5      2\n",
      "student-3  ganesh      4      3\n",
      "student-4   paven      6      4\n",
      "student-5    mani      7      5\n",
      "\n",
      " Number of dimensions is  DataFrmame =  2\n"
     ]
    }
   ],
   "source": [
    "import pandas as pd\n",
    "\n",
    "data = {\n",
    "\n",
    "    'student': ['laxmi','sai','ganesh','paven','mani'],\n",
    "    'marks' : [1,5,4,6,7],\n",
    "    'ranks' : [1,2,3,4,5]\n",
    "    \n",
    "}\n",
    "df = pd.DataFrame(data, index = ['student-1','student-2','student-3','student-4','student-5'])\n",
    "\n",
    "print(df)\n",
    "\n",
    "# Number of dimensions in the Dataframe\n",
    "print('\\n Number of dimensions is  DataFrmame = ', df.ndim)\n",
    "\n"
   ]
  },
  {
   "cell_type": "markdown",
   "id": "757a1424-3404-47e3-a595-3c99877f2a72",
   "metadata": {},
   "source": [
    "# DATAFRAME – SIZE\n",
    "\n",
    "1. The pandas.DataFrame.size is used to return the number of elements in the DataFrame.\n",
    "\n",
    "2. Let us now see an example to implement the size attribute in Python Pandas:"
   ]
  },
  {
   "cell_type": "code",
   "execution_count": null,
   "id": "0cccfb02-a0ba-4aae-bcaa-3457f3413441",
   "metadata": {},
   "outputs": [],
   "source": []
  },
  {
   "cell_type": "code",
   "execution_count": 14,
   "id": "bd3df2da-e3df-459a-97ba-c880cdae4b38",
   "metadata": {},
   "outputs": [
    {
     "name": "stdout",
     "output_type": "stream",
     "text": [
      "          student  marks  ranks\n",
      "student-1   laxmi      1      1\n",
      "student-2     sai      5      2\n",
      "student-3  ganesh      4      3\n",
      "student-4   paven      6      4\n",
      "student-5    mani      7      5\n",
      "\n",
      " size of attribute Dataframe =  15\n"
     ]
    }
   ],
   "source": [
    "import pandas as pd\n",
    "\n",
    "data = {\n",
    "\n",
    "    'student': ['laxmi','sai','ganesh','paven','mani'],\n",
    "    'marks' : [1,5,4,6,7],\n",
    "    'ranks' : [1,2,3,4,5]\n",
    "    \n",
    "}\n",
    "df = pd.DataFrame(data, index = ['student-1','student-2','student-3','student-4','student-5'])\n",
    "\n",
    "print(df)\n",
    "\n",
    "# Size of  attributes in dataframe \n",
    "print('\\n size of attribute Dataframe = ', df.size)\n",
    "\n"
   ]
  },
  {
   "cell_type": "markdown",
   "id": "be53dc79-b004-419c-8ee4-ebfe52a69529",
   "metadata": {},
   "source": [
    "# DATAFRAME – SHAPE\n",
    "\n",
    "1. The pandas.DataFrame.shape is used to return the dimensionality of the DataFrame in the form of a tuple.\n",
    "\n",
    "2. Let us now see an example to implement the shape attribute in Python Pandas:"
   ]
  },
  {
   "cell_type": "code",
   "execution_count": 16,
   "id": "4aa9b405-95b4-44d4-a0d7-16b627ceeca7",
   "metadata": {},
   "outputs": [
    {
     "name": "stdout",
     "output_type": "stream",
     "text": [
      "          student  marks  ranks\n",
      "student-1   laxmi      1      1\n",
      "student-2     sai      5      2\n",
      "student-3  ganesh      4      3\n",
      "student-4   paven      6      4\n",
      "student-5    mani      7      5\n",
      "\n",
      " shap of attributes is  DataFrmame =  (5, 3)\n"
     ]
    }
   ],
   "source": [
    "import pandas as pd\n",
    "\n",
    "data = {\n",
    "\n",
    "    'student': ['laxmi','sai','ganesh','paven','mani'],\n",
    "    'marks' : [1,5,4,6,7],\n",
    "    'ranks' : [1,2,3,4,5]\n",
    "    \n",
    "}\n",
    "df = pd.DataFrame(data, index = ['student-1','student-2','student-3','student-4','student-5'])\n",
    "\n",
    "print(df)\n",
    "\n",
    "# shap attribute in Dataframe \n",
    "print('\\n shap of attributes is  DataFrmame = ', df.shape)\n",
    "\n"
   ]
  },
  {
   "cell_type": "markdown",
   "id": "5ad03618-b0b2-4441-8505-ac1354809cb4",
   "metadata": {},
   "source": [
    "# DATAFRAME – INDEX\n",
    "\n",
    "1. The pandas.DataFrame.index is used to return the index of the DataFrame.\n",
    "\n",
    "2. Let us now see an example to implement the index attribute in Python Pandas:\n",
    "\n"
   ]
  },
  {
   "cell_type": "code",
   "execution_count": 17,
   "id": "845e384e-5acd-4e07-aebf-d9f9d58ed861",
   "metadata": {},
   "outputs": [
    {
     "name": "stdout",
     "output_type": "stream",
     "text": [
      "          student  marks  ranks\n",
      "student-1   laxmi      1      1\n",
      "student-2     sai      5      2\n",
      "student-3  ganesh      4      3\n",
      "student-4   paven      6      4\n",
      "student-5    mani      7      5\n",
      "\n",
      " DataFrmame indexed =  Index(['student-1', 'student-2', 'student-3', 'student-4', 'student-5'], dtype='object')\n"
     ]
    }
   ],
   "source": [
    "import pandas as pd\n",
    "\n",
    "data = {\n",
    "\n",
    "    'student': ['laxmi','sai','ganesh','paven','mani'],\n",
    "    'marks' : [1,5,4,6,7],\n",
    "    'ranks' : [1,2,3,4,5]\n",
    "    \n",
    "}\n",
    "df = pd.DataFrame(data, index = ['student-1','student-2','student-3','student-4','student-5'])\n",
    "\n",
    "print(df)\n",
    "\n",
    "#  Dataframe indexed \n",
    "print('\\n DataFrmame indexed = ', df.index)\n",
    "\n"
   ]
  },
  {
   "cell_type": "markdown",
   "id": "c86247bc-5034-4156-8405-f8cc0a38b813",
   "metadata": {},
   "source": [
    "# PANDAS DATAFRAME-T\n",
    "\n",
    "1. The pandas.DataFrame.T is used to Transpose the rows and columns.\n",
    "\n",
    "2. Let us now see an example to implement the T attribute in Python Pandas:"
   ]
  },
  {
   "cell_type": "code",
   "execution_count": 20,
   "id": "cfe14ae7-fa1c-4b10-bdb2-863e68eafa26",
   "metadata": {},
   "outputs": [
    {
     "name": "stdout",
     "output_type": "stream",
     "text": [
      "          student  marks  ranks\n",
      "student-1   laxmi      1      1\n",
      "student-2     sai      5      2\n",
      "student-3  ganesh      4      3\n",
      "student-4   paven      6      4\n",
      "student-5    mani      7      5\n",
      "\n",
      " Transpose data  = \n",
      "          student-1 student-2 student-3 student-4 student-5\n",
      "student     laxmi       sai    ganesh     paven      mani\n",
      "marks           1         5         4         6         7\n",
      "ranks           1         2         3         4         5\n"
     ]
    }
   ],
   "source": [
    "import pandas as pd\n",
    "\n",
    "data = {\n",
    "\n",
    "    'student': ['laxmi','sai','ganesh','paven','mani'],\n",
    "    'marks' : [1,5,4,6,7],\n",
    "    'ranks' : [1,2,3,4,5]\n",
    "    \n",
    "}\n",
    "df = pd.DataFrame(data, index = ['student-1','student-2','student-3','student-4','student-5'])\n",
    "\n",
    "print(df)\n",
    "\n",
    "#  Data Transpose data (column to Rows change) \n",
    "print('\\n Transpose data  = \\n ', df.T)\n",
    "\n"
   ]
  },
  {
   "cell_type": "markdown",
   "id": "8b7d5a99-5e1c-4b61-9c08-bd6296a12dfe",
   "metadata": {},
   "source": [
    "# PANDAS DATAFRAME – HEAD()\n",
    "\n",
    "1. The pandas.DataFrame.head() is used to return the first n rows.\n",
    "\n",
    "2. Let us now see an example to implement the head() method in Python Pandas"
   ]
  },
  {
   "cell_type": "code",
   "execution_count": 24,
   "id": "79bf7a2e-a59a-4ac8-8b07-d5eed758c685",
   "metadata": {},
   "outputs": [
    {
     "name": "stdout",
     "output_type": "stream",
     "text": [
      "          student  marks  ranks\n",
      "student-1   laxmi      1      1\n",
      "student-2     sai      5      2\n",
      "student-3  ganesh      4      3\n",
      "student-4   paven      6      4\n",
      "student-5    mani      7      5\n",
      "\n",
      " display first 5 Row in Dataframe = \n",
      "            student  marks  ranks\n",
      "student-1   laxmi      1      1\n",
      "student-2     sai      5      2\n",
      "student-3  ganesh      4      3\n",
      "student-4   paven      6      4\n",
      "student-5    mani      7      5\n",
      "\n",
      " parameters value is head method \n",
      " =            student  marks  ranks\n",
      "student-1   laxmi      1      1\n",
      "student-2     sai      5      2\n"
     ]
    }
   ],
   "source": [
    "import pandas as pd\n",
    "\n",
    "data = {\n",
    "\n",
    "    'student': ['laxmi','sai','ganesh','paven','mani'],\n",
    "    'marks' : [1,5,4,6,7],\n",
    "    'ranks' : [1,2,3,4,5]\n",
    "    \n",
    "}\n",
    "df = pd.DataFrame(data, index = ['student-1','student-2','student-3','student-4','student-5'])\n",
    "\n",
    "print(df)\n",
    "\n",
    "#  Head is displayed first 5 Row in datafrmane\n",
    "print('\\n display first 5 Row in Dataframe = \\n ', df.head())\n",
    "\n",
    "# using Head method user parameters (It displays only first two lines)\n",
    "print('\\n parameters value is head method \\n = ',df.head(2))\n",
    "\n"
   ]
  },
  {
   "cell_type": "markdown",
   "id": "3678a8bb-c73e-416d-a1f5-52238e6e64d6",
   "metadata": {},
   "source": [
    "# DATAFRAME – TAIL()\n",
    "\n",
    "1. The pandas.DataFrame.tail() is used to return the last n rows.\n",
    "\n",
    "2. Let us now see an example to implement the tail() method in Python Pandas\n",
    "\n"
   ]
  },
  {
   "cell_type": "code",
   "execution_count": 25,
   "id": "da90eb53-389b-4545-8a73-5de12cc73a58",
   "metadata": {},
   "outputs": [
    {
     "name": "stdout",
     "output_type": "stream",
     "text": [
      "          student  marks  ranks\n",
      "student-1   laxmi      1      1\n",
      "student-2     sai      5      2\n",
      "student-3  ganesh      4      3\n",
      "student-4   paven      6      4\n",
      "student-5    mani      7      5\n",
      "\n",
      " display first 5 Row in Dataframe = \n",
      "            student  marks  ranks\n",
      "student-1   laxmi      1      1\n",
      "student-2     sai      5      2\n",
      "student-3  ganesh      4      3\n",
      "student-4   paven      6      4\n",
      "student-5    mani      7      5\n",
      "\n",
      " parameters value is head method \n",
      " =            student  marks  ranks\n",
      "student-4   paven      6      4\n",
      "student-5    mani      7      5\n"
     ]
    }
   ],
   "source": [
    "import pandas as pd\n",
    "\n",
    "data = {\n",
    "\n",
    "    'student': ['laxmi','sai','ganesh','paven','mani'],\n",
    "    'marks' : [1,5,4,6,7],\n",
    "    'ranks' : [1,2,3,4,5]\n",
    "    \n",
    "}\n",
    "df = pd.DataFrame(data, index = ['student-1','student-2','student-3','student-4','student-5'])\n",
    "\n",
    "print(df)\n",
    "\n",
    "#  Tail is displayed last  n Row in datafrmane\n",
    "print('\\n display first 5 Row in Dataframe = \\n ', df.tail())\n",
    "\n",
    "# using Tail method user parameters (It displays only last two lines)\n",
    "print('\\n parameters value is head method \\n = ',df.tail(2))\n",
    "\n"
   ]
  },
  {
   "cell_type": "code",
   "execution_count": null,
   "id": "dfea5ca1-ef8a-4495-a95b-3032c8fc4539",
   "metadata": {},
   "outputs": [],
   "source": []
  }
 ],
 "metadata": {
  "kernelspec": {
   "display_name": "Python 3 (ipykernel)",
   "language": "python",
   "name": "python3"
  },
  "language_info": {
   "codemirror_mode": {
    "name": "ipython",
    "version": 3
   },
   "file_extension": ".py",
   "mimetype": "text/x-python",
   "name": "python",
   "nbconvert_exporter": "python",
   "pygments_lexer": "ipython3",
   "version": "3.11.4"
  }
 },
 "nbformat": 4,
 "nbformat_minor": 5
}
