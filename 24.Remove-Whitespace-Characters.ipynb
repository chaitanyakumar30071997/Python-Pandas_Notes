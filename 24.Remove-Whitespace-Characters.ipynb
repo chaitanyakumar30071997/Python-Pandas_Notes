{
 "cells": [
  {
   "cell_type": "markdown",
   "id": "95eb4eae-771a-49d9-8446-5821c31a7daa",
   "metadata": {},
   "source": [
    "# PANDAS - REMOVE WHITESPACE AND CHARACTERS\n",
    "\n",
    "To remove whitespace (including newlines) or a set of specific characters on text data in a Series or DataFrame, use the following methods in Python Pandas:\n",
    "\n",
    "1. strip(): Strip whitespace or specific characters from the left and right\n",
    "\n",
    "2. Istrip(): Strip whitespace or specific characters from only the left side\n",
    "\n",
    "3. rstrip(): Strip whitespace or specific characters from only the right side"
   ]
  },
  {
   "cell_type": "markdown",
   "id": "d729fa7e-dcbe-4621-886a-b03c13e8c90d",
   "metadata": {},
   "source": [
    "# 1. PANDAS STRIP() METHOD\n",
    "\n",
    "To strip whitespace (including newlines) or specific characters from both the left and right side of values in a Series or DataFrame, use the strip() method in Pandas."
   ]
  },
  {
   "cell_type": "code",
   "execution_count": 3,
   "id": "0d789bfe-56f6-4263-88b8-7e7f70e1600b",
   "metadata": {},
   "outputs": [
    {
     "name": "stdout",
     "output_type": "stream",
     "text": [
      "Date serices \n",
      "  0     \\n apply \\n\n",
      "1         ball \\n\n",
      "2         \\n cat \n",
      "3    \\t hello \\n \n",
      "4            Jeep\n",
      "dtype: object\n",
      "Remove spices cates  0    apply\n",
      "1     ball\n",
      "2      cat\n",
      "3    hello\n",
      "4     Jeep\n",
      "dtype: object\n"
     ]
    }
   ],
   "source": [
    "import pandas as pd\n",
    "date = ['\\n apply \\n','ball \\n','\\n cat ','\\t hello \\n ',' Jeep']\n",
    "\n",
    "df = pd.Series(date)\n",
    "print ( 'Date serices \\n ', df)\n",
    "\n",
    "# Remove splice \\n /\\t \n",
    "print ('Remove spices cates ',df.str.strip())"
   ]
  },
  {
   "cell_type": "markdown",
   "id": "915612b5-6ab4-401d-9026-cfc6c16008b6",
   "metadata": {},
   "source": [
    "# 2. PANDAS LSTRIP() METHOD\n",
    "\n",
    "To strip whitespace (including newlines) or specific characters from the left side of values in a Series or DataFrame, use the Istrip() method in Pandas."
   ]
  },
  {
   "cell_type": "code",
   "execution_count": null,
   "id": "b35de657-ed89-4aaf-b302-b39a52f9009c",
   "metadata": {},
   "outputs": [],
   "source": []
  },
  {
   "cell_type": "code",
   "execution_count": 4,
   "id": "ee4e3739-e78b-4235-a2ce-4ed6296b079b",
   "metadata": {},
   "outputs": [
    {
     "name": "stdout",
     "output_type": "stream",
     "text": [
      "Date serices \n",
      "  0     \\n apply \\n\n",
      "1         ball \\n\n",
      "2         \\n cat \n",
      "3    \\t hello \\n \n",
      "4            Jeep\n",
      "dtype: object\n",
      "Remove left side  cates  0     apply \\n\n",
      "1      ball \\n\n",
      "2         cat \n",
      "3    hello \\n \n",
      "4         Jeep\n",
      "dtype: object\n"
     ]
    }
   ],
   "source": [
    "import pandas as pd\n",
    "date = ['\\n apply \\n','ball \\n','\\n cat ','\\t hello \\n ',' Jeep']\n",
    "\n",
    "df = pd.Series(date)\n",
    "print ( 'Date serices \\n ', df)\n",
    "\n",
    "# Remove splice \\n /\\t \n",
    "print ('Remove left side  cates ',df.str.lstrip())"
   ]
  },
  {
   "cell_type": "markdown",
   "id": "02b63ebe-a52c-49d9-aad3-ab2fd7b194cb",
   "metadata": {},
   "source": [
    "# 3. PANDAS RSTRIP() METHOD\n",
    "\n",
    "To strip whitespace (including newlines) or specific characters from the right side of values in a Series or DataFrame, use the rstrip() method in Pandas."
   ]
  },
  {
   "cell_type": "code",
   "execution_count": null,
   "id": "bb32aef5-605a-4260-901b-3025ba56705e",
   "metadata": {},
   "outputs": [],
   "source": []
  },
  {
   "cell_type": "code",
   "execution_count": 5,
   "id": "35d61737-0782-49fc-98a8-64310b9648f5",
   "metadata": {},
   "outputs": [
    {
     "name": "stdout",
     "output_type": "stream",
     "text": [
      "Date serices \n",
      "  0     \\n apply \\n\n",
      "1         ball \\n\n",
      "2         \\n cat \n",
      "3    \\t hello \\n \n",
      "4            Jeep\n",
      "dtype: object\n",
      "Remove Right side  cates  0    \\n apply\n",
      "1        ball\n",
      "2      \\n cat\n",
      "3    \\t hello\n",
      "4        Jeep\n",
      "dtype: object\n"
     ]
    }
   ],
   "source": [
    "import pandas as pd\n",
    "date = ['\\n apply \\n','ball \\n','\\n cat ','\\t hello \\n ',' Jeep']\n",
    "\n",
    "df = pd.Series(date)\n",
    "print ( 'Date serices \\n ', df)\n",
    "\n",
    "# Remove splice \\n /\\t \n",
    "print ('Remove Right side  cates ',df.str.rstrip())"
   ]
  },
  {
   "cell_type": "code",
   "execution_count": null,
   "id": "ca498250-cdd9-494b-bd43-87ce77d26b68",
   "metadata": {},
   "outputs": [],
   "source": []
  }
 ],
 "metadata": {
  "kernelspec": {
   "display_name": "Python 3 (ipykernel)",
   "language": "python",
   "name": "python3"
  },
  "language_info": {
   "codemirror_mode": {
    "name": "ipython",
    "version": 3
   },
   "file_extension": ".py",
   "mimetype": "text/x-python",
   "name": "python",
   "nbconvert_exporter": "python",
   "pygments_lexer": "ipython3",
   "version": "3.11.4"
  }
 },
 "nbformat": 4,
 "nbformat_minor": 5
}
