{
 "cells": [
  {
   "cell_type": "markdown",
   "id": "78eff2b7-2681-4952-b4f3-a5dc18be1bd1",
   "metadata": {},
   "source": [
    "# PANDAS - CLEAN THE DATA\n",
    "\n",
    "To clean the data in Python, we have some built-in functions. In this lesson, we will understand them one by one with examples.\n",
    "\n",
    "Cleaning the data in Pandas means working on the incorrect data to fix it. This incorrect data can empty data, null, duplicate data, etc.\n",
    "\n",
    "Let's say we have the following CSV file demo.csv. The data consists of some null values:"
   ]
  },
  {
   "cell_type": "markdown",
   "id": "6d41d4e4-967a-422e-a4cc-1ab0e1dbb59e",
   "metadata": {},
   "source": [
    "# CLEAN THE DATA – BUILT-IN FUNCTIONS\n",
    "\n",
    "Let us now work around the functions to clean the data:\n",
    "\n",
    "1. isnull(): Find the NULL values and replace them with True.\n",
    "\n",
    "2. notnull(): Find the NOT NULL values and replace them with True.\n",
    "\n",
    "3. df.dropna(): Drop rows with NULL values.\n",
    "\n",
    "4. df.fillna(x): Replace NULL values with a specific value"
   ]
  },
  {
   "cell_type": "code",
   "execution_count": 16,
   "id": "b728b8f5-619a-4c5d-a250-abddd2ffa76e",
   "metadata": {},
   "outputs": [
    {
     "name": "stdout",
     "output_type": "stream",
     "text": [
      "    EName    Eid addres\n",
      "0    mani  101.0    NaN\n",
      "1  ganesh    NaN      N\n",
      "2     NaN  103.0      S\n",
      "3     sai  104.0      E\n",
      "\n",
      " its show null values\n",
      "  <bound method DataFrame.isnull of     EName    Eid addres\n",
      "0    mani  101.0    NaN\n",
      "1  ganesh    NaN      N\n",
      "2     NaN  103.0      S\n",
      "3     sai  104.0      E>\n"
     ]
    }
   ],
   "source": [
    "import pandas as pd \n",
    "df = pd.read_excel('Emp.xlsx')\n",
    "\n",
    "print(df)\n",
    "\n",
    "dff = df.isnull\n",
    "print('\\n its show null values\\n ',dff)\n",
    "\n",
    "\n"
   ]
  },
  {
   "cell_type": "markdown",
   "id": "7f596c3c-1026-4055-b21d-b848b7557466",
   "metadata": {},
   "source": [
    "# 2. CLEAN THE DATA – notnull() FUNCTION\n",
    "\n",
    "The notnull() method in Pandas is used to find the NOT NULL values and replace them with True. For NULL values, False is returned.\n",
    "\n"
   ]
  },
  {
   "cell_type": "code",
   "execution_count": null,
   "id": "6cfdebe8-1b0f-421d-b444-511ea1df24ad",
   "metadata": {},
   "outputs": [],
   "source": []
  },
  {
   "cell_type": "code",
   "execution_count": 17,
   "id": "366c4a2c-6b2f-416b-bf95-abd66eccfd5c",
   "metadata": {},
   "outputs": [
    {
     "name": "stdout",
     "output_type": "stream",
     "text": [
      "    EName    Eid addres\n",
      "0    mani  101.0    NaN\n",
      "1  ganesh    NaN      N\n",
      "2     NaN  103.0      S\n",
      "3     sai  104.0      E\n",
      "\n",
      " its show null values\n",
      "     EName    Eid  addres\n",
      "0   True   True   False\n",
      "1   True  False    True\n",
      "2  False   True    True\n",
      "3   True   True    True\n"
     ]
    }
   ],
   "source": [
    "import pandas as pd \n",
    "df = pd.read_excel('Emp.xlsx')\n",
    "\n",
    "print(df)\n",
    "\n",
    "dff = df.notnull()\n",
    "print('\\n its show null values\\n ',dff)\n",
    "\n",
    "\n"
   ]
  },
  {
   "cell_type": "markdown",
   "id": "ae9e3040-8e44-4afa-92c4-4422a57c8668",
   "metadata": {},
   "source": [
    "# 3. CLEAN THE DATA – df.dropna() FUNCTION\n",
    "\n",
    "The dropna() method in Pandas is used to drop and remove rows with null values.\n",
    "\n",
    "Let us see an example:"
   ]
  },
  {
   "cell_type": "code",
   "execution_count": 18,
   "id": "783d7c19-c83a-40f4-92f0-4d6e14982bbd",
   "metadata": {},
   "outputs": [
    {
     "name": "stdout",
     "output_type": "stream",
     "text": [
      "    EName    Eid addres\n",
      "0    mani  101.0    NaN\n",
      "1  ganesh    NaN      N\n",
      "2     NaN  103.0      S\n",
      "3     sai  104.0      E\n",
      "\n",
      " its show null values\n",
      "    EName    Eid addres\n",
      "3   sai  104.0      E\n"
     ]
    }
   ],
   "source": [
    "import pandas as pd \n",
    "df = pd.read_excel('Emp.xlsx')\n",
    "\n",
    "print(df)\n",
    "\n",
    "dff = df.dropna()\n",
    "print('\\n Remove the null column \\n ',dff)\n",
    "\n",
    "\n"
   ]
  },
  {
   "cell_type": "markdown",
   "id": "8937bd35-ea58-4760-b907-922a3849dd53",
   "metadata": {},
   "source": [
    "# 4. CLEAN THE DATA – df.fillna() FUNCTION\n",
    "\n",
    "The fillna() method in Pandas is used to replace NULL values with a specific value."
   ]
  },
  {
   "cell_type": "code",
   "execution_count": null,
   "id": "d24b1435-7f4a-4116-aa2d-7eb037e8c45e",
   "metadata": {},
   "outputs": [],
   "source": []
  },
  {
   "cell_type": "code",
   "execution_count": 20,
   "id": "09b2e950-fbb2-443d-a9b6-219de98e0546",
   "metadata": {},
   "outputs": [
    {
     "name": "stdout",
     "output_type": "stream",
     "text": [
      "    EName    Eid addres\n",
      "0    mani  101.0    NaN\n",
      "1  ganesh    NaN      N\n",
      "2     NaN  103.0      S\n",
      "3     sai  104.0      E\n",
      "\n",
      " replce the null with different number  \n",
      "      EName    Eid addres\n",
      "0    mani  101.0  Empty\n",
      "1  ganesh  Empty      N\n",
      "2   Empty  103.0      S\n",
      "3     sai  104.0      E\n"
     ]
    }
   ],
   "source": [
    "import pandas as pd \n",
    "df = pd.read_excel('Emp.xlsx')\n",
    "\n",
    "print(df)\n",
    "\n",
    "dff = df.fillna('Empty')\n",
    "print('\\n replce the null with different number  \\n ',dff)\n",
    "\n",
    "\n"
   ]
  },
  {
   "cell_type": "code",
   "execution_count": null,
   "id": "7456780f-7165-4ef5-870e-f7e36b0f6aaf",
   "metadata": {},
   "outputs": [],
   "source": []
  }
 ],
 "metadata": {
  "kernelspec": {
   "display_name": "Python 3 (ipykernel)",
   "language": "python",
   "name": "python3"
  },
  "language_info": {
   "codemirror_mode": {
    "name": "ipython",
    "version": 3
   },
   "file_extension": ".py",
   "mimetype": "text/x-python",
   "name": "python",
   "nbconvert_exporter": "python",
   "pygments_lexer": "ipython3",
   "version": "3.11.4"
  }
 },
 "nbformat": 4,
 "nbformat_minor": 5
}
