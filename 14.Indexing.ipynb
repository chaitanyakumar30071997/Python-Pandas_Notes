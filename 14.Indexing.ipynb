{
 "cells": [
  {
   "cell_type": "markdown",
   "id": "aaeb3892-9dd4-45e6-b055-807d4a7be4b5",
   "metadata": {},
   "source": [
    "# PANDAS - INDEXING\n",
    "\n",
    "Indexing means selecting specific rows and columns of data from DataFrame. A DataFrame includes columns, index, and data. Let us see some examples:\n",
    "\n",
    "1. Indexing in Pandas using the indexing operator\n",
    "\n",
    "2. Indexing in Pandas using loc[]\n",
    "\n",
    "3. Indexing in Pandas using iloc[]"
   ]
  },
  {
   "cell_type": "markdown",
   "id": "b3913f59-8d92-4e32-a735-a2be9bb4bbb9",
   "metadata": {},
   "source": [
    "# PANDAS - INDEXING\n",
    "\n",
    "In this lesson, we will learn how Indexing works in Pandas. We can easily index and select data in Pandas"
   ]
  },
  {
   "cell_type": "markdown",
   "id": "f400c6fa-baba-4a2f-94f9-c575076ef459",
   "metadata": {},
   "source": [
    "# 1. EXAMPLE - INDEXING USING THE INDEXING OPERATOR []\n",
    "\n",
    "We can directly use the [] i.e. the indexing operator in Pandas to retrieve records.\n",
    "\n",
    "Let us see an example:"
   ]
  },
  {
   "cell_type": "code",
   "execution_count": 11,
   "id": "510babd9-2dfc-47cc-b59d-8ff617f75478",
   "metadata": {},
   "outputs": [
    {
     "name": "stdout",
     "output_type": "stream",
     "text": [
      "Index(['Year', 'Income', 'Education', 'Graduation', 'Standing'], dtype='object')\n",
      "Name\n",
      "Alice      2M\n",
      "Rumy      40K\n",
      "Jonny    120K\n",
      "Romeo     10M\n",
      "Lily       6M\n",
      "Alice      2M\n",
      "Rumy      40K\n",
      "Name: Income, dtype: object\n"
     ]
    }
   ],
   "source": [
    "import pandas as pd\n",
    "\n",
    "df = pd.read_csv('peo.csv',index_col = 'Name')\n",
    "\n",
    "# find display columns name \n",
    "print (df.columns)\n",
    "\n",
    "# find one columns names and display \n",
    "print (df['Income'])\n"
   ]
  },
  {
   "cell_type": "markdown",
   "id": "e61c56ec-a343-4654-8a04-36874bc50388",
   "metadata": {},
   "source": [
    "# 2. EXAMPLE - INDEXING USING loc[ ]\n",
    "\n",
    "To retrieve a single row in Panda, use the loc] in Pandas."
   ]
  },
  {
   "cell_type": "code",
   "execution_count": 27,
   "id": "8efd55a3-b544-49af-b725-b11633f427a4",
   "metadata": {},
   "outputs": [
    {
     "name": "stdout",
     "output_type": "stream",
     "text": [
      "Year               1987\n",
      "Income               6M\n",
      "Education      Harvard/\n",
      "Graduation     20210510\n",
      "Standing      Excellant\n",
      "Name: Lily, dtype: object\n"
     ]
    }
   ],
   "source": [
    "import pandas as pd\n",
    "\n",
    "df = pd.read_csv('peo.csv',index_col ='Name')\n",
    "\n",
    "\n",
    "# Find the index value one person details only display \n",
    "\n",
    "print(df.loc['Lily'])"
   ]
  },
  {
   "cell_type": "markdown",
   "id": "4f11b7a5-4d3b-415c-9e29-2731f7165635",
   "metadata": {},
   "source": [
    "# 3. EXAMPLE - INDEXING USING iloc[]\n",
    "\n",
    "To retrieve the rows and columns by position, use the iloc[ ] in Pandas.\n",
    "\n",
    "Let us see an example:"
   ]
  },
  {
   "cell_type": "code",
   "execution_count": 44,
   "id": "3d9b9c70-78c3-4423-9653-21a2daa65791",
   "metadata": {},
   "outputs": [
    {
     "name": "stdout",
     "output_type": "stream",
     "text": [
      "Income\n",
      "2M      Alice\n",
      "40K      Rumy\n",
      "120K    Jonny\n",
      "10M     Romeo\n",
      "6M       Lily\n",
      "2M      Alice\n",
      "40K      Rumy\n",
      "Name: Name, dtype: object\n",
      "index value and sizes :-  7\n",
      "\n",
      " columnes Name:-   Index(['Name', 'Year', 'Education', 'Graduation', 'Standing'], dtype='object')\n",
      " \n",
      " sheap of the table in index:-   (7, 5)\n"
     ]
    }
   ],
   "source": [
    "import pandas as pd\n",
    "\n",
    "df = pd.read_csv('peo.csv',index_col = 'Income')\n",
    "\n",
    "print(df['Name'])\n",
    "\n",
    "\n",
    "# Find the index value one person details only display \n",
    "\n",
    "# print(df.iloc[3])\n",
    "\n",
    "# Total index value and size \n",
    "print('index value and sizes :- ', df.index.size)\n",
    "\n",
    "print('\\n columnes Name:-  ',df.columns)\n",
    "\n",
    "#  shape of tablet \n",
    "print( ' \\n sheap of the table in index:-  ',df.shape)\n",
    "\n",
    "\n",
    "\n",
    "\n"
   ]
  },
  {
   "cell_type": "code",
   "execution_count": null,
   "id": "04f8aea8-57e0-409f-9cfd-4dcc365fe1bb",
   "metadata": {},
   "outputs": [],
   "source": []
  }
 ],
 "metadata": {
  "kernelspec": {
   "display_name": "Python 3 (ipykernel)",
   "language": "python",
   "name": "python3"
  },
  "language_info": {
   "codemirror_mode": {
    "name": "ipython",
    "version": 3
   },
   "file_extension": ".py",
   "mimetype": "text/x-python",
   "name": "python",
   "nbconvert_exporter": "python",
   "pygments_lexer": "ipython3",
   "version": "3.11.4"
  }
 },
 "nbformat": 4,
 "nbformat_minor": 5
}
