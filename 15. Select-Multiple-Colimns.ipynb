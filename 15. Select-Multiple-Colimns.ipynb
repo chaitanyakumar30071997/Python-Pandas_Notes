{
 "cells": [
  {
   "cell_type": "markdown",
   "id": "a8854922-6152-4872-8309-7f220c71066f",
   "metadata": {},
   "source": [
    "# PANDAS - SELECT MULTIPLE COLUMNS\n",
    "\n",
    "In Python, easily select multiple columns in a Pandas DataFrame. Select more than one column without using built-in functions. More than two columns can also be selected in a range. In this lesson, learn how to:\n",
    "\n",
    "1. Select two columns\n",
    "\n",
    "2. Select multiple columns in a range"
   ]
  },
  {
   "cell_type": "markdown",
   "id": "735978d9-2f05-47fd-818f-2276e155bd21",
   "metadata": {},
   "source": [
    "# 1. PANDAS - SELECT TWO COLUMNS\n",
    "\n",
    "To select two specific columns from a Pandas DataFrame, mention the column names. Do not mention the column names you don't want to display:\n",
    "\n",
    "dataFrame[[['Rank', 'Marks']]\n",
    "\n",
    "Let us see an example of selectinglewo specific columns in a Pandas DataFrame:"
   ]
  },
  {
   "cell_type": "code",
   "execution_count": 13,
   "id": "adeb8f18-73d1-4975-8f06-66e0e65c503e",
   "metadata": {},
   "outputs": [
    {
     "name": "stdout",
     "output_type": "stream",
     "text": [
      "   student  Roll\n",
      "0    laxmi     1\n",
      "1    sneha     2\n",
      "2  thamana     3\n",
      "3     srir     4\n"
     ]
    }
   ],
   "source": [
    "import pandas as pd\n",
    "data = {\n",
    "    'student':['laxmi','sneha','thamana','srir'],\n",
    "    'Roll':[1,2,3,4],\n",
    "    'Address': ['N','E','W','S']\n",
    "}\n",
    "\n",
    "df = pd.DataFrame(data)\n",
    "#print('Print Data Frame \\n ',df)\n",
    "print (df[['student','Roll']])\n",
    "\n"
   ]
  },
  {
   "cell_type": "markdown",
   "id": "63955c9a-6e9b-485f-a665-e4d23cc6c067",
   "metadata": {},
   "source": [
    "# 2. PANDAS - SELECT MULTIPLE COLUMNS IN A RANGE\n",
    "\n",
    "In a Pandas DataFrame, to select more than one column in a range, mention the index numbers in a range separated by a colon. The following selects columns 3rd to 5th\n",
    "\n",
    "dataFrame [dataFrame.columns[2:5]]\n",
    "\n",
    "Let us see an example to select multiple columns in a range. We have added two more columns to the above example for our input:"
   ]
  },
  {
   "cell_type": "code",
   "execution_count": 18,
   "id": "ea615a86-d1eb-488b-83ca-ddded00c3354",
   "metadata": {},
   "outputs": [
    {
     "name": "stdout",
     "output_type": "stream",
     "text": [
      "   Roll Address\n",
      "0     1       N\n",
      "1     2       E\n",
      "2     3       W\n",
      "3     4       S\n"
     ]
    }
   ],
   "source": [
    "import pandas as pd\n",
    "data = {\n",
    "    'student':['laxmi','sneha','thamana','srir'],\n",
    "    'Roll':[1,2,3,4],\n",
    "    'Address': ['N','E','W','S']\n",
    "}\n",
    "\n",
    "df = pd.DataFrame(data)\n",
    "#print('Print Data Frame \\n ',df)\n",
    "print (df[df.columns[1:3]])\n",
    "\n"
   ]
  },
  {
   "cell_type": "code",
   "execution_count": null,
   "id": "fbb176cc-084e-4e68-be73-9cc76d205898",
   "metadata": {},
   "outputs": [],
   "source": []
  }
 ],
 "metadata": {
  "kernelspec": {
   "display_name": "Python 3 (ipykernel)",
   "language": "python",
   "name": "python3"
  },
  "language_info": {
   "codemirror_mode": {
    "name": "ipython",
    "version": 3
   },
   "file_extension": ".py",
   "mimetype": "text/x-python",
   "name": "python",
   "nbconvert_exporter": "python",
   "pygments_lexer": "ipython3",
   "version": "3.11.4"
  }
 },
 "nbformat": 4,
 "nbformat_minor": 5
}
