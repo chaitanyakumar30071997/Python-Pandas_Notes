{
 "cells": [
  {
   "cell_type": "markdown",
   "id": "9e77ffca-a7fd-472e-91a9-2a5d864f966d",
   "metadata": {},
   "source": [
    "# PANDAS - SORTING\n",
    "\n",
    "To sort the data in Pandas, we can use various methods. In this lesson, we will see how to sort the DataFrame in Pandas using the sort_values() method.\n",
    "\n",
    "Let us first see some examples:\n",
    "\n",
    "1. Sort the Pandas DataFrame\n",
    "\n",
    "2. Sort the Pandas DataFrame in Descending Order"
   ]
  },
  {
   "cell_type": "markdown",
   "id": "e017f459-ed8e-4d95-bf33-9ab11c790bb4",
   "metadata": {},
   "source": [
    "# 1. PANDAS - SORT THE DATAFRAME\n",
    "\n",
    "To sort the dataframe, use the sort_values() method. The default is ascending. Therefore, you don't need to mention any value in the parameter for ascending sort.\n",
    "\n",
    "We will sort by value i.e. the by parameter will be set to the column name by which we need to sort the DataFrame in ascending order.\n",
    "\n",
    "Let us now see an example:"
   ]
  },
  {
   "cell_type": "code",
   "execution_count": 6,
   "id": "d1f30dea-5d3d-4d23-a0fe-58751d90ea22",
   "metadata": {},
   "outputs": [
    {
     "name": "stdout",
     "output_type": "stream",
     "text": [
      "Sort method DataFrame \n",
      "            Emp  Eid address\n",
      "102    ganesh    6       S\n",
      "101      mani    1       N\n",
      "103       sai    5       E\n",
      "104  saikumar    4       W\n"
     ]
    }
   ],
   "source": [
    "import pandas as pd\n",
    "data = {\n",
    "    'Emp':['mani','ganesh','sai','saikumar'],\n",
    "    'Eid':[1,6,5,4,],\n",
    "    'address': ['N','S','E','W']\n",
    "}\n",
    "\n",
    "df = pd.DataFrame(data, index = [101,102,103,104])\n",
    "\n",
    "\n",
    "print('Sort method DataFrame \\n ',df.sort_values(by=['Emp']))"
   ]
  },
  {
   "cell_type": "markdown",
   "id": "654aac73-d72e-4f4b-af0c-1ab14b878430",
   "metadata": {},
   "source": [
    "# 2. PANDAS - SORT THE DATAFRAME IN DESCENDING ORDER\n",
    "\n",
    "To sort the DataFrame in descending order, use the sort_values() method. Set the ascending parameter of the method to False for descending order sort.\n",
    "\n",
    "We will sort by value i.e. the by parameter will be set to the column name by which we need to sort the DataFrame in descending order.\n",
    "\n"
   ]
  },
  {
   "cell_type": "code",
   "execution_count": null,
   "id": "1be33d38-c0ce-441b-af57-715298bae567",
   "metadata": {},
   "outputs": [],
   "source": []
  },
  {
   "cell_type": "code",
   "execution_count": 12,
   "id": "95230a32-5a86-4cfc-97bc-69748ed539c8",
   "metadata": {},
   "outputs": [
    {
     "name": "stdout",
     "output_type": "stream",
     "text": [
      "Sort method DataFrame \n",
      "            Emp  Eid address\n",
      "102    ganesh    6       S\n",
      "103       sai    5       E\n",
      "104  saikumar    4       W\n",
      "101      mani    1       N\n"
     ]
    }
   ],
   "source": [
    "import pandas as pd\n",
    "data = {\n",
    "    'Emp':['mani','ganesh','sai','saikumar'],\n",
    "    'Eid':[1,6,5,4,],\n",
    "    'address': ['N','S','E','W']\n",
    "}\n",
    "\n",
    "df = pd.DataFrame(data, index = [101,102,103,104])\n",
    "\n",
    "\n",
    "print('Sort method DataFrame \\n ',df.sort_values( by=['Eid'], ascending = False ))"
   ]
  },
  {
   "cell_type": "code",
   "execution_count": null,
   "id": "d5d1b87a-708a-48cb-9b44-350049ba1d95",
   "metadata": {},
   "outputs": [],
   "source": []
  }
 ],
 "metadata": {
  "kernelspec": {
   "display_name": "Python 3 (ipykernel)",
   "language": "python",
   "name": "python3"
  },
  "language_info": {
   "codemirror_mode": {
    "name": "ipython",
    "version": 3
   },
   "file_extension": ".py",
   "mimetype": "text/x-python",
   "name": "python",
   "nbconvert_exporter": "python",
   "pygments_lexer": "ipython3",
   "version": "3.11.4"
  }
 },
 "nbformat": 4,
 "nbformat_minor": 5
}
