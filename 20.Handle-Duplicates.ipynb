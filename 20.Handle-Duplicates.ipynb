{
 "cells": [
  {
   "cell_type": "markdown",
   "id": "f88e6167-b11c-4f5d-b59e-65e20588abb6",
   "metadata": {},
   "source": [
    "# PANDAS - HANDLING DUPLICATES (FIND AND REMOVE)\n",
    "\n",
    "Handling Duplicates in Python Pandas means to find and remove duplicates from rows in a DataFrame or Series, use the:\n",
    "\n",
    "1. duplicated(): Find Duplicates, and\n",
    "\n",
    "2. drop_duplicates(): Remove Duplicates"
   ]
  },
  {
   "cell_type": "markdown",
   "id": "2d0dd2c2-e534-4658-82e1-75c0791d2258",
   "metadata": {},
   "source": [
    "# 1. HANDLING DUPLICATES - FIND DUPLICATES\n",
    "\n",
    "To find duplicates from rows in a Pandas DataFrame or Series, use the duplicated() method. It returns a Series with True and False values i.e. for duplicate rows True is returned.\n",
    "\n",
    "Let us see an example:"
   ]
  },
  {
   "cell_type": "code",
   "execution_count": 8,
   "id": "c3d8040d-c08d-4775-b3b3-33eb78fc4a32",
   "metadata": {},
   "outputs": [
    {
     "name": "stdout",
     "output_type": "stream",
     "text": [
      "0    False\n",
      "1    False\n",
      "2    False\n",
      "3     True\n",
      "dtype: bool\n"
     ]
    }
   ],
   "source": [
    "import pandas as pd\n",
    "data = {\n",
    "\n",
    "    'emp' : [ \"mani\",\"sai\",\"chai\",\"sai\"],\n",
    "    'eid' : [101,102,103,102],\n",
    "    'Addres': ['N','E','W','E']\n",
    "}\n",
    "\n",
    "df = pd.DataFrame(data)\n",
    "\n",
    "dff = (df.duplicated())\n",
    "print(dff)\n"
   ]
  },
  {
   "cell_type": "markdown",
   "id": "f9d53130-5f48-4a5e-b233-e1e06646d523",
   "metadata": {},
   "source": [
    "# 2. HANDLING DUPLICATES - REMOVE DUPLICATES\n",
    "\n",
    "To remove duplicates from rows in a Pandas DataFrame or Series, use the drop_duplicates() method.\n",
    "\n",
    "Let us see an example:"
   ]
  },
  {
   "cell_type": "code",
   "execution_count": null,
   "id": "97e3f5db-46c6-463e-8f43-d5e89caf1c57",
   "metadata": {},
   "outputs": [],
   "source": []
  },
  {
   "cell_type": "code",
   "execution_count": 15,
   "id": "c8591944-d135-4bed-b18e-7273bb9367df",
   "metadata": {},
   "outputs": [
    {
     "name": "stdout",
     "output_type": "stream",
     "text": [
      "\n",
      "     emp  eid Addres\n",
      "0  mani  101      N\n",
      "1   sai  102      E\n",
      "2  chai  103      W\n",
      "3   sai  102      E\n",
      "\n",
      " Remove duplicates \n",
      "       emp  eid Addres\n",
      "0  mani  101      N\n",
      "1   sai  102      E\n",
      "2  chai  103      W\n"
     ]
    }
   ],
   "source": [
    "import pandas as pd\n",
    "data = {\n",
    "\n",
    "    'emp' : [ \"mani\",\"sai\",\"chai\",\"sai\"],\n",
    "    'eid' : [101,102,103,102],\n",
    "    'Addres': ['N','E','W','E']\n",
    "}\n",
    "\n",
    "df = pd.DataFrame(data)\n",
    "print ('\\n',df)\n",
    "\n",
    "dff = df.drop_duplicates()\n",
    "print('\\n Remove duplicates \\n  ',dff)\n"
   ]
  },
  {
   "cell_type": "code",
   "execution_count": null,
   "id": "4aa10e80-e6fe-4cfc-b72e-d94fe38e8556",
   "metadata": {},
   "outputs": [],
   "source": []
  }
 ],
 "metadata": {
  "kernelspec": {
   "display_name": "Python 3 (ipykernel)",
   "language": "python",
   "name": "python3"
  },
  "language_info": {
   "codemirror_mode": {
    "name": "ipython",
    "version": 3
   },
   "file_extension": ".py",
   "mimetype": "text/x-python",
   "name": "python",
   "nbconvert_exporter": "python",
   "pygments_lexer": "ipython3",
   "version": "3.11.4"
  }
 },
 "nbformat": 4,
 "nbformat_minor": 5
}
