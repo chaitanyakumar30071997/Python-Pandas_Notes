{
 "cells": [
  {
   "cell_type": "markdown",
   "id": "85ad02a9-0af9-44c6-b9b4-db19386e92ec",
   "metadata": {},
   "source": [
    "# PANDAS - ADD A NEW COLUMN\n",
    "\n",
    "In this lesson, we will learn how to add a new column to Pandas DataFrame in Python. We will insert a column to an already created DataFrame. Let us see various ways to achieve this:\n",
    "\n",
    "1. Add a new column using the insert() method (set the location)\n",
    "\n",
    "2. Assign a new column using the assign() method (place at the end)"
   ]
  },
  {
   "cell_type": "markdown",
   "id": "d750a4c0-2d92-4fd8-aa7f-8f7c71e8925c",
   "metadata": {},
   "source": [
    "# 1. PANDAS - ADD A NEW COLUMN USING INSERT()\n",
    "\n",
    "To insert a new column into a DataFrame, use the insert() method. We can set the location, name, and the values as a parameter:\n",
    "\n",
    "dataFrame.insert(2, me.insert(2, \"roll\", [101, 102, 103, 104, 105])\n",
    "\n",
    "The 1st parameter of the insert() is the location you want the new column. The 2nd is the name of the new column and 3rd are the values of the new column.\n",
    "\n",
    "Let us see an example of adding a new column to a Pandas DataFrame using the insert() method:"
   ]
  },
  {
   "cell_type": "code",
   "execution_count": 16,
   "id": "368c22bb-e150-44f6-ab7e-472ccd16e0b6",
   "metadata": {},
   "outputs": [
    {
     "name": "stdout",
     "output_type": "stream",
     "text": [
      "  student  Roll  rank addres\n",
      "0     anu   101  firs      N\n",
      "1    sati   102   sec      E\n",
      "2   vani    103  thee      W\n",
      "3   laxmi   104  four      S\n"
     ]
    }
   ],
   "source": [
    "import pandas as pd\n",
    "data = {\n",
    "    'student' : ['anu','sati','vani ','laxmi'],\n",
    "    'Roll' : [101,102,103,104],\n",
    "    'addres' : ['N','E','W','S']\n",
    "    \n",
    "}\n",
    "df = pd.DataFrame(data)\n",
    "\n",
    "# print('DataFrame \\n ',df)\n",
    "\n",
    "df.insert(2,'rank',['firs','sec','thee','four'])\n",
    "\n",
    "print(df)\n",
    "\n"
   ]
  },
  {
   "cell_type": "markdown",
   "id": "5445f927-c875-4c8b-865c-f16cfd94af5c",
   "metadata": {},
   "source": [
    "# 2. PANDAS - ADD A NEW COLUMN USING ASSIGN()\n",
    "\n",
    "To assign new columns to an already created Pandas DataFrame, use the assign() method. It adds a new column to the end. Set the new column with the column name as a parameter of the assign() method:\n",
    "\n",
    "resDF = dataFrame.assign(roll = [101, 102, 103, 104, 105])\n",
    "\n",
    "Let us see an example of adding a new column to a Pandas Dataframe using the assign() method:"
   ]
  },
  {
   "cell_type": "code",
   "execution_count": null,
   "id": "2256eb31-d10c-47fe-a402-311043815383",
   "metadata": {},
   "outputs": [],
   "source": []
  },
  {
   "cell_type": "code",
   "execution_count": 19,
   "id": "a6fd7daf-8aed-49b1-aab4-2c4aae7194a7",
   "metadata": {},
   "outputs": [
    {
     "name": "stdout",
     "output_type": "stream",
     "text": [
      "  student  Roll addres  rank\n",
      "0     anu   101      N  firs\n",
      "1    sati   102      E   sec\n",
      "2   vani    103      W  thee\n",
      "3   laxmi   104      S  four\n"
     ]
    }
   ],
   "source": [
    "import pandas as pd\n",
    "data = {\n",
    "    'student' : ['anu','sati','vani ','laxmi'],\n",
    "    'Roll' : [101,102,103,104],\n",
    "    'addres' : ['N','E','W','S']\n",
    "    \n",
    "}\n",
    "df = pd.DataFrame(data)\n",
    "\n",
    "# print('DataFrame \\n ',df)\n",
    "\n",
    "dff = df.assign(rank = ['firs','sec','thee','four'])\n",
    "\n",
    "print(dff)\n",
    "\n"
   ]
  },
  {
   "cell_type": "code",
   "execution_count": null,
   "id": "8bd9e572-4753-4ece-8088-ee7439f6599e",
   "metadata": {},
   "outputs": [],
   "source": []
  }
 ],
 "metadata": {
  "kernelspec": {
   "display_name": "Python 3 (ipykernel)",
   "language": "python",
   "name": "python3"
  },
  "language_info": {
   "codemirror_mode": {
    "name": "ipython",
    "version": 3
   },
   "file_extension": ".py",
   "mimetype": "text/x-python",
   "name": "python",
   "nbconvert_exporter": "python",
   "pygments_lexer": "ipython3",
   "version": "3.11.4"
  }
 },
 "nbformat": 4,
 "nbformat_minor": 5
}
