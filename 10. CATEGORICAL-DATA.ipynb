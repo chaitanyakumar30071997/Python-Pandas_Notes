{
 "cells": [
  {
   "cell_type": "markdown",
   "id": "787f5e1b-d8ce-407b-95c0-4d1965002e1c",
   "metadata": {},
   "source": [
    "# PANDAS - CATEGORICAL DATA\n",
    "\n",
    "In this lesson, we will learn how to work with Categorical data in Pandas. It is a Pandas data type corresponding to categorical variables in statistics. A categorical variable takes on a limited number of possible values. Examples are gender, blood type, country affiliation, rating, etc.\n",
    "\n",
    "Let us see two examples:\n",
    "\n",
    "1. Create Categorical Series in Pandas\n",
    "\n",
    "2. Create Categorical DataFrame in Pandas"
   ]
  },
  {
   "cell_type": "markdown",
   "id": "9d5ec236-a21f-43d9-8ce9-7246da2507a0",
   "metadata": {},
   "source": [
    "# 1. PANDAS - CREATE CATEGORICAL SERIES\n",
    "\n",
    "Use the dtype=\"category\" while creating a series to create a Categorical Series."
   ]
  },
  {
   "cell_type": "code",
   "execution_count": 19,
   "id": "db77e9c3-c903-4636-81f4-daed533a43a8",
   "metadata": {},
   "outputs": [
    {
     "name": "stdout",
     "output_type": "stream",
     "text": [
      "0    H\n",
      "1    e\n",
      "2    l\n",
      "3    l\n",
      "4    o\n",
      "dtype: category\n",
      "Categories (4, object): ['H', 'e', 'l', 'o']\n"
     ]
    }
   ],
   "source": [
    "import pandas as pd\n",
    "\n",
    "s = pd.Series([\"H\",\"e\",\"l\",\"l\",\"o\"], dtype = 'category')\n",
    "\n",
    "print (s)\n"
   ]
  },
  {
   "cell_type": "markdown",
   "id": "344bb32b-2ee3-4c6e-8769-1a5d0c104949",
   "metadata": {},
   "source": [
    "# 2. PANDAS - CREATE CATEGORICAL DATAFRAME\n",
    "\n",
    "Use the dtype=\"category\" while creating a DataFrame to create a Categorical DataFrame. Let us see an example.\n",
    "\n",
    "We have created 3 categories here:"
   ]
  },
  {
   "cell_type": "code",
   "execution_count": 23,
   "id": "b2cec4a3-8645-401e-aaca-54e592ae9ef7",
   "metadata": {},
   "outputs": [
    {
     "name": "stdout",
     "output_type": "stream",
     "text": [
      "cat1    category\n",
      "cat2    category\n",
      "dtype: object\n"
     ]
    }
   ],
   "source": [
    "import pandas as pd\n",
    "\n",
    "s = pd.DataFrame({'cat1': list('qwe'),'cat2' :list('rty')},dtype = 'category')\n",
    "\n",
    "print(s)\n",
    "\n"
   ]
  },
  {
   "cell_type": "code",
   "execution_count": null,
   "id": "b5fbd3f9-a8ad-43fb-ba18-6cc075931772",
   "metadata": {},
   "outputs": [],
   "source": []
  }
 ],
 "metadata": {
  "kernelspec": {
   "display_name": "Python 3 (ipykernel)",
   "language": "python",
   "name": "python3"
  },
  "language_info": {
   "codemirror_mode": {
    "name": "ipython",
    "version": 3
   },
   "file_extension": ".py",
   "mimetype": "text/x-python",
   "name": "python",
   "nbconvert_exporter": "python",
   "pygments_lexer": "ipython3",
   "version": "3.11.4"
  }
 },
 "nbformat": 4,
 "nbformat_minor": 5
}
