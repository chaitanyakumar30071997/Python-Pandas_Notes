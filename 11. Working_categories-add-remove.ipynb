{
 "cells": [
  {
   "cell_type": "markdown",
   "id": "ebbe12d7-2884-4f74-9435-e072767fba27",
   "metadata": {},
   "source": [
    "# PANDAS-WORKING WITH CATEGORIES\n",
    "\n",
    "In this lesson, we will understand how to work with Categories in Pandas. We will learn the following with examples:\n",
    "\n",
    "1. Append new categories\n",
    "\n",
    "2. Remove a category"
   ]
  },
  {
   "cell_type": "code",
   "execution_count": 29,
   "id": "515913cf-009b-4b17-949a-b407fb7289e4",
   "metadata": {},
   "outputs": [
    {
     "name": "stdout",
     "output_type": "stream",
     "text": [
      "0    A\n",
      "1    B\n",
      "2    C\n",
      "3    D\n",
      "dtype: category\n",
      "Categories (4, object): ['A', 'B', 'C', 'D']\n",
      "Append method add same data \n",
      " 0    A\n",
      "1    B\n",
      "2    C\n",
      "3    D\n",
      "dtype: category\n",
      "Categories (5, object): ['A', 'B', 'C', 'D', 'E']\n"
     ]
    }
   ],
   "source": [
    "import pandas as pd\n",
    "s = ['A','B','C','D']\n",
    "\n",
    "se = pd.Series(s,dtype = 'category')\n",
    "\n",
    "print(se)\n",
    "\n",
    "# Append add same data \n",
    "t = se.cat.add_categories('E')\n",
    "print('Append method add same data \\n',t)\n",
    "\n",
    "\n",
    "\n"
   ]
  },
  {
   "cell_type": "markdown",
   "id": "5cf4ad90-6102-44c8-97ce-c060fa5a20cc",
   "metadata": {},
   "source": [
    "# 2. PANDAS – REMOVE A CATEGORY\n",
    "\n",
    "To remove a category, use the remove_categories() method in Python Pandas."
   ]
  },
  {
   "cell_type": "code",
   "execution_count": 33,
   "id": "9f9ceb14-e22c-4576-990d-45521289e822",
   "metadata": {},
   "outputs": [
    {
     "name": "stdout",
     "output_type": "stream",
     "text": [
      "0    A\n",
      "1    B\n",
      "2    C\n",
      "3    D\n",
      "dtype: category\n",
      "Categories (4, object): ['A', 'B', 'C', 'D']\n",
      " \n",
      "Remove form the Series \n",
      " 0    NaN\n",
      "1      B\n",
      "2      C\n",
      "3      D\n",
      "dtype: category\n",
      "Categories (3, object): ['B', 'C', 'D']\n"
     ]
    }
   ],
   "source": [
    "import pandas as pd\n",
    "s = ['A','B','C','D']\n",
    "\n",
    "se = pd.Series(s,dtype = 'category')\n",
    "\n",
    "print(se)\n",
    "\n",
    "# Remove categories form series \n",
    "t = se.cat.remove_categories('A')\n",
    "print(' \\nRemove form the Series \\n',t)\n",
    "\n",
    "\n",
    "\n"
   ]
  },
  {
   "cell_type": "code",
   "execution_count": null,
   "id": "33af2295-6f14-4f37-91c4-92e84db1d2c4",
   "metadata": {},
   "outputs": [],
   "source": []
  }
 ],
 "metadata": {
  "kernelspec": {
   "display_name": "Python 3 (ipykernel)",
   "language": "python",
   "name": "python3"
  },
  "language_info": {
   "codemirror_mode": {
    "name": "ipython",
    "version": 3
   },
   "file_extension": ".py",
   "mimetype": "text/x-python",
   "name": "python",
   "nbconvert_exporter": "python",
   "pygments_lexer": "ipython3",
   "version": "3.11.4"
  }
 },
 "nbformat": 4,
 "nbformat_minor": 5
}
