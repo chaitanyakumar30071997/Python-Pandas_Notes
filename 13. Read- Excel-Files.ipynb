{
 "cells": [
  {
   "cell_type": "markdown",
   "id": "2dbd46ce-e65a-4cf6-9642-0fed2cddc556",
   "metadata": {
    "jupyter": {
     "source_hidden": true
    }
   },
   "source": [
    "# PANDAS - READ EXCEL\n",
    "\n",
    "To read an Excel file in Python, we use the Pandas read_excel() method.\n",
    "# First, install the openpyxl package in the PyCharm IDE."
   ]
  },
  {
   "cell_type": "markdown",
   "id": "4b66781e-2d0f-4687-96a2-6d011b09838d",
   "metadata": {},
   "source": [
    "# EXAMPLES – READ EXCEL\n",
    "\n",
    "We will now see some examples to read excel in Pandas:\n",
    "\n",
    "1. Read an Excel file\n",
    "\n",
    "2. Display the top n rows of the DataFrame\n",
    "\n",
    "3. Display the last n rows of the DataFrame"
   ]
  },
  {
   "cell_type": "markdown",
   "id": "3f92d7a0-ec26-4016-a333-288e97f0f8f6",
   "metadata": {},
   "source": [
    "# 1. EXAMPLE - READ AN EXCEL\n",
    "\n",
    "Let us now see an example to read our Excel file using the pandas.read_excel() method in Pandas.\n",
    "\n",
    "First, load the Excel file, read the data, and store it in a Pandas DataFrame:"
   ]
  },
  {
   "cell_type": "code",
   "execution_count": null,
   "id": "3544c058-2892-487b-a0ff-746f82f33021",
   "metadata": {},
   "outputs": [],
   "source": [
    "\n",
    "import pandas as pd \n",
    "\n",
    "df = pd.read_excel('abc.xlsx')\n",
    "print (df)"
   ]
  },
  {
   "cell_type": "markdown",
   "id": "4c080c9f-7e5c-40e3-834c-dae01c4e947e",
   "metadata": {},
   "source": [
    "# 2. EXAMPLE – DISPLAY THE TOP N ROWS OF A DATAFRAME\n",
    "\n",
    "The head() method will display the first n rows of a DataFrame. The default rows returned are 5.\n",
    "\n",
    "Let us see an example to display only the top 2 rows. For that, set the parameter of the head() as 2. First, load the Excel file, read the data, and store it in a Pandas DataFrame:"
   ]
  },
  {
   "cell_type": "code",
   "execution_count": null,
   "id": "e6e7b912-dbdc-4ba9-8ef1-07f6333c4bc4",
   "metadata": {},
   "outputs": [],
   "source": []
  },
  {
   "cell_type": "code",
   "execution_count": null,
   "id": "8a735919-1dd0-4192-afb9-dc7352ce4f24",
   "metadata": {},
   "outputs": [],
   "source": [
    "\n",
    "import pandas as pd \n",
    "\n",
    "df = pd.read_excel('abc.xlsx')\n",
    "# display only the top 5 rows for the set \n",
    "# print (df.head())\n",
    "\n",
    "# display only the top 2 row for the set \n",
    "print (df.head(2))"
   ]
  },
  {
   "cell_type": "markdown",
   "id": "4513c005-0e9f-4b1d-b632-f7d4fc02b742",
   "metadata": {},
   "source": [
    "# 3. EXAMPLE - DISPLAY THE LAST N ROWS OF A DATAFRAME\n",
    "\n",
    "The tail() method will display the last n rows of a DataFrame. The default rows returned are 5.\n",
    "\n",
    "Let us see an example to display only the bottom 2 rows. For that, set the parameter of the tail() as 2. First, load the Excel file, read the data, and store it in a Pandas DataFrame:"
   ]
  },
  {
   "cell_type": "code",
   "execution_count": null,
   "id": "32e0e2c8-a985-442a-adfa-b9310bf9cda9",
   "metadata": {},
   "outputs": [],
   "source": [
    "\n",
    "import pandas as pd \n",
    "\n",
    "df = pd.read_excel('abc.xlsx')\n",
    "# display only the last  5 rows for the set \n",
    "print (df.tail())\n",
    "\n",
    "# display only the last 2 row for the set \n",
    "print ('\\n display only the last 2 row \\n',df.tail(2))"
   ]
  },
  {
   "cell_type": "markdown",
   "id": "d4314d1a-15c1-472d-9068-be8190d39426",
   "metadata": {},
   "source": [
    "# You can specify the sheet to read with the argument sheet_name."
   ]
  },
  {
   "cell_type": "code",
   "execution_count": null,
   "id": "514df74b-1fdc-4867-bfb6-4ae20188cc5f",
   "metadata": {},
   "outputs": [],
   "source": [
    "df= pd.read_excel('dataset.xlsx', sheet_name=[0, 'Xtest'])\n",
    "\n",
    "print(df)"
   ]
  },
  {
   "cell_type": "markdown",
   "id": "9a587610-1c47-425a-afe3-9ea7c39d1f9f",
   "metadata": {},
   "source": [
    "# Load all sheets\n",
    "If sheet_name argument is none, all sheets are read."
   ]
  },
  {
   "cell_type": "code",
   "execution_count": null,
   "id": "d1492ffe-c92c-46cd-aa70-0b77b6d94273",
   "metadata": {},
   "outputs": [],
   "source": [
    "df_sheet_all = pd.read_excel('dataset.xlsx', sheet_name=None)\n",
    "print(df_sheet_all)"
   ]
  },
  {
   "cell_type": "code",
   "execution_count": null,
   "id": "15cdba85-874d-462b-b8d4-f3326177ef0b",
   "metadata": {},
   "outputs": [],
   "source": []
  }
 ],
 "metadata": {
  "kernelspec": {
   "display_name": "Python 3 (ipykernel)",
   "language": "python",
   "name": "python3"
  },
  "language_info": {
   "codemirror_mode": {
    "name": "ipython",
    "version": 3
   },
   "file_extension": ".py",
   "mimetype": "text/x-python",
   "name": "python",
   "nbconvert_exporter": "python",
   "pygments_lexer": "ipython3",
   "version": "3.11.4"
  }
 },
 "nbformat": 4,
 "nbformat_minor": 5
}
