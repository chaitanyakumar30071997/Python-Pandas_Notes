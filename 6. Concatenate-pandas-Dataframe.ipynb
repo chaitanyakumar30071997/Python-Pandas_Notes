{
 "cells": [
  {
   "cell_type": "markdown",
   "id": "f2a0e73f-5c74-488d-9634-60104974225c",
   "metadata": {},
   "source": [
    "# CONCATENATE PANDAS DATAFRAME\n",
    "\n",
    "In this lesson, learn to concatenate the Pandas DataFrames in Python using the concat() method. This will concatenate the content of the DataFrames.\n",
    "\n",
    "Let us see an example and create two DataFrames and concatenate them:"
   ]
  },
  {
   "cell_type": "code",
   "execution_count": 13,
   "id": "9074214f-4a58-4687-a7ae-ff33d1de7b7b",
   "metadata": {},
   "outputs": [
    {
     "name": "stdout",
     "output_type": "stream",
     "text": [
      "\n",
      " old Emp Name         EName   Eid\n",
      "emp-1  Laxmi  v001\n",
      "emp-2    Anu  v002\n",
      "emp-3    Div  v003\n",
      "emp-4   Driv  v004\n",
      "emp-5  Dhoni  v005\n",
      "\n",
      " NewEmp name and id         EName   Eid\n",
      "emp-6   vani  v006\n",
      "emp-7  sheha  v007\n",
      "emp-8    suv  v008\n",
      "\n",
      " Total Emp name and id :-  \n",
      "         EName   Eid\n",
      "emp-1  Laxmi  v001\n",
      "emp-2    Anu  v002\n",
      "emp-3    Div  v003\n",
      "emp-4   Driv  v004\n",
      "emp-5  Dhoni  v005\n",
      "emp-6   vani  v006\n",
      "emp-7  sheha  v007\n",
      "emp-8    suv  v008\n"
     ]
    }
   ],
   "source": [
    "import pandas as pd\n",
    "oldEmp = {\n",
    "\n",
    "    'EName' : ['Laxmi','Anu','Div','Driv','Dhoni',],\n",
    "    'Eid':[ 'v001','v002','v003','v004','v005'],\n",
    "    \n",
    "}\n",
    "\n",
    "NewEmp = {\n",
    "    'EName': ['vani','sheha','suv'],\n",
    "    'Eid' : ['v006','v007','v008']\n",
    "}\n",
    "\n",
    "Data1 = pd.DataFrame(oldEmp , index = ['emp-1','emp-2','emp-3','emp-4','emp-5'])\n",
    "print('\\n old Emp Name ', Data1)\n",
    "Data2 = pd.DataFrame(NewEmp , index = ['emp-6','emp-7','emp-8'])\n",
    "print('\\n NewEmp name and id ' ,Data2)\n",
    "\n",
    "# This add data in to single dataframe\n",
    "TotalEmp = pd.concat([Data1,Data2])\n",
    "print('\\n Total Emp name and id :-  \\n ',TotalEmp)"
   ]
  },
  {
   "cell_type": "code",
   "execution_count": null,
   "id": "baee7ef3-bdbe-44c6-9317-d91a778aea32",
   "metadata": {},
   "outputs": [],
   "source": []
  }
 ],
 "metadata": {
  "kernelspec": {
   "display_name": "Python 3 (ipykernel)",
   "language": "python",
   "name": "python3"
  },
  "language_info": {
   "codemirror_mode": {
    "name": "ipython",
    "version": 3
   },
   "file_extension": ".py",
   "mimetype": "text/x-python",
   "name": "python",
   "nbconvert_exporter": "python",
   "pygments_lexer": "ipython3",
   "version": "3.11.4"
  }
 },
 "nbformat": 4,
 "nbformat_minor": 5
}
