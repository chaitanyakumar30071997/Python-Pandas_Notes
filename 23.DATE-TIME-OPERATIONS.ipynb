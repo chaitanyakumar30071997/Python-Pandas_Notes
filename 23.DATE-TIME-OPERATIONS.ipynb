{
 "cells": [
  {
   "cell_type": "markdown",
   "id": "6d4e72cb-8c1e-42b2-82f7-235fb1ffe275",
   "metadata": {},
   "source": [
    "# PANDAS - DATE TIME OPERATIONS\n",
    "\n",
    "In this lesson, learn how to work with the Date Time operations in Pandas. Let us first see how to get the current date and time, then we will check for leap year, last day of the month, week, etc. The following example are covered:\n",
    "\n",
    "1. Get the current date and time\n",
    "\n",
    "6. Check if the date is the last day of the month\n",
    "\n",
    "2. Get the day of the week\n",
    "\n",
    "7. Check if the date is the first day of the month\n",
    "\n",
    "3. Get the day of the year\n",
    "\n",
    "8. Check if the date is the last day of the year\n",
    "\n",
    "4. Get the number of days in a morith\n",
    "\n",
    "9. Check if the date is the first day of the year\n",
    "\n",
    "5. Check if the year is a leap year"
   ]
  },
  {
   "cell_type": "markdown",
   "id": "81f8d845-93aa-446f-839e-f2bd91cb9683",
   "metadata": {},
   "source": [
    "# 1. PANDAS - GET THE CURRENT DATE AND TIME\n",
    "\n",
    "The Timestamp.now() method is used in Python Pandas to get the current date and time in the local timezone."
   ]
  },
  {
   "cell_type": "code",
   "execution_count": 3,
   "id": "ec75ab06-bb23-482b-8e66-4651c99c5ef7",
   "metadata": {},
   "outputs": [
    {
     "name": "stdout",
     "output_type": "stream",
     "text": [
      "curent data and time stamp  2024-08-13 08:22:23.143419\n"
     ]
    }
   ],
   "source": [
    "import pandas as pd\n",
    "\n",
    "print ('curent data and time stamp ',pd.Timestamp.now())"
   ]
  },
  {
   "cell_type": "markdown",
   "id": "46c3e0e4-505e-4aa7-9666-c86038985ede",
   "metadata": {},
   "source": [
    "# 2. PANDAS - GET THE DAY OF THE WEEK\n",
    "\n",
    "To get the day of the week, use the Pandas.dayofweek attribute in Python Pandas."
   ]
  },
  {
   "cell_type": "code",
   "execution_count": 13,
   "id": "c60e1005-d662-4540-89ba-2d5dff86eff2",
   "metadata": {},
   "outputs": [
    {
     "name": "stdout",
     "output_type": "stream",
     "text": [
      "Wednesday\n"
     ]
    }
   ],
   "source": [
    "import pandas as pd\n",
    "\n",
    "# Correct usage of pd.Timestamp\n",
    "date = pd.Timestamp(year=2024, month=12, day=25)\n",
    "day_of_week = date.strftime('%A')\n",
    "print(day_of_week)\n"
   ]
  },
  {
   "cell_type": "markdown",
   "id": "97b1a156-78d4-40dd-ad6d-b51aaacf7cb5",
   "metadata": {},
   "source": [
    "# 3. PANDAS - GET THE DAY OF THE YEAR\n",
    "\n",
    "To get the day of the year, use the Pandas.dayofyear attribute in Python Pandas:"
   ]
  },
  {
   "cell_type": "code",
   "execution_count": 18,
   "id": "ccdce76f-f1a1-47e9-9111-f64592f020cc",
   "metadata": {},
   "outputs": [
    {
     "name": "stdout",
     "output_type": "stream",
     "text": [
      "curint date in  2024-12-25 00:00:00\n",
      "Day of year  360\n"
     ]
    }
   ],
   "source": [
    "import pandas as pd\n",
    "\n",
    "# Correct usage of pd.Timestamp\n",
    "date = pd.Timestamp(year=2024, month=12, day=25)\n",
    "\n",
    "print('curint date in ',date)\n",
    "\n",
    "print ('Day of year ',date.dayofyear)"
   ]
  },
  {
   "cell_type": "markdown",
   "id": "262a99a2-8457-4867-b0ed-418e3dfed71e",
   "metadata": {},
   "source": [
    "# 4. PANDAS - GET THE NUMBER OF DAYS IN A MONTH\n",
    "\n",
    "To get the number of days in a month, use the Pandas.daysinmonth attribute in Python Pandas:"
   ]
  },
  {
   "cell_type": "code",
   "execution_count": 20,
   "id": "7ff2bda3-a757-4bc6-b55e-410b54e65d8c",
   "metadata": {},
   "outputs": [
    {
     "name": "stdout",
     "output_type": "stream",
     "text": [
      "curint date in  2024-12-25 00:00:00\n",
      "Day of in month \n",
      " 31\n"
     ]
    }
   ],
   "source": [
    "import pandas as pd\n",
    "\n",
    "# Correct usage of pd.Timestamp\n",
    "date = pd.Timestamp(year=2024, month=12, day=25)\n",
    "\n",
    "print('curint date in ',date)\n",
    "\n",
    "print ('Day of in month \\n',date.daysinmonth)"
   ]
  },
  {
   "cell_type": "markdown",
   "id": "bc4fb456-61dc-4336-9f3a-e34a322c7f8f",
   "metadata": {},
   "source": [
    "# 5. PANDAS - CHECK IF THE YEAR IS A LEAP YEAR\n",
    "\n",
    "To check if the year is a leap year, use the Pandas.is_leap_year attribute in Python Pandas:"
   ]
  },
  {
   "cell_type": "code",
   "execution_count": 23,
   "id": "d12c4749-36dc-4bad-94e8-ef994187ecb8",
   "metadata": {},
   "outputs": [
    {
     "name": "stdout",
     "output_type": "stream",
     "text": [
      "curint date in  2024-12-25 00:00:00\n",
      "2024 is a leap year\n",
      " True\n"
     ]
    }
   ],
   "source": [
    "import pandas as pd\n",
    "\n",
    "# Correct usage of pd.Timestamp\n",
    "date = pd.Timestamp(year=2024, month=12, day=25)\n",
    "\n",
    "print('curint date in ',date)\n",
    "\n",
    "print ('2024 is a leap year\\n',date.is_leap_year)"
   ]
  },
  {
   "cell_type": "markdown",
   "id": "335a5e50-6750-4135-9bb4-06100eac9404",
   "metadata": {},
   "source": [
    "# 6. PANDAS - CHECK IF THE DATE IS THE LAST DAY OF THE MONTH\n",
    "\n",
    "To check if the date is the last day of the month, use the Pandas.is_month_end attribute in Python Pandas:"
   ]
  },
  {
   "cell_type": "code",
   "execution_count": 24,
   "id": "b2d295df-f8a4-4fb4-a233-466385c093de",
   "metadata": {},
   "outputs": [
    {
     "name": "stdout",
     "output_type": "stream",
     "text": [
      "curint date in  2024-12-25 00:00:00\n",
      "This date is month end \n",
      " False\n"
     ]
    }
   ],
   "source": [
    "import pandas as pd\n",
    "\n",
    "# Correct usage of pd.Timestamp\n",
    "date = pd.Timestamp(year=2024, month=12, day=25)\n",
    "\n",
    "print('curint date in ',date)\n",
    "\n",
    "print ('This date is month end \\n',date.is_month_end)"
   ]
  },
  {
   "cell_type": "markdown",
   "id": "ddb13bbe-99e4-4677-b680-bdf898d32404",
   "metadata": {},
   "source": [
    "# 7. PANDAS - CHECK IF THE DATE IS THE FIRST DAY OF THE MONTH\n",
    "\n",
    "To check if the date is the first day of the month, use the Pandas.is_month_start attribute in Python Pandas."
   ]
  },
  {
   "cell_type": "code",
   "execution_count": 24,
   "id": "61c9cb58-a6ab-4fe0-ba66-b49735d54c35",
   "metadata": {},
   "outputs": [
    {
     "name": "stdout",
     "output_type": "stream",
     "text": [
      "curint date in  2024-12-25 00:00:00\n",
      "This date is month end \n",
      " False\n"
     ]
    }
   ],
   "source": [
    "import pandas as pd\n",
    "\n",
    "# Correct usage of pd.Timestamp\n",
    "date = pd.Timestamp(year=2024, month=12, day=25)\n",
    "\n",
    "print('curint date in ',date)\n",
    "\n",
    "print ('This date is month end \\n',date.is_month_end)"
   ]
  },
  {
   "cell_type": "markdown",
   "id": "b3c5fc46-4223-40e7-9700-64ce677d5538",
   "metadata": {},
   "source": [
    "# 8. PANDAS – CHECK IF THE DATE IS THE LAST DAY OF THE YEAR\n",
    "\n",
    "To check if the date is the last day of the year, use the Pandas.is_year_end attribute in Python Pandas."
   ]
  },
  {
   "cell_type": "code",
   "execution_count": 26,
   "id": "6f06c3cf-fcd6-46d3-90dd-4e59bcb44efc",
   "metadata": {},
   "outputs": [
    {
     "name": "stdout",
     "output_type": "stream",
     "text": [
      "curint date in  2024-12-25 00:00:00\n",
      "This date is end if year \n",
      " False\n"
     ]
    }
   ],
   "source": [
    "import pandas as pd\n",
    "\n",
    "# Correct usage of pd.Timestamp\n",
    "date = pd.Timestamp(year=2024, month=12, day=25)\n",
    "\n",
    "print('curint date in ',date)\n",
    "\n",
    "print ('This date is end if year \\n',date.is_year_end)"
   ]
  },
  {
   "cell_type": "markdown",
   "id": "7638e085-6e93-4a9e-94dd-6eea555d735d",
   "metadata": {},
   "source": [
    "# 9. PANDAS – CHECK IF THE DATE IS THE FIRST DAY OF THE YEAR\n",
    "\n",
    "To check if the date is the first day of the year, use the Pandas.is_year_start attribute in Python Pandas."
   ]
  },
  {
   "cell_type": "code",
   "execution_count": 28,
   "id": "b9eb34c0-3624-42d2-b525-942808a8c687",
   "metadata": {},
   "outputs": [
    {
     "name": "stdout",
     "output_type": "stream",
     "text": [
      "curint date in  2024-12-25 00:00:00\n",
      "This date is starting of year \n",
      " False\n"
     ]
    }
   ],
   "source": [
    "import pandas as pd\n",
    "\n",
    "# Correct usage of pd.Timestamp\n",
    "date = pd.Timestamp(year=2024, month=12, day=25)\n",
    "\n",
    "print('curint date in ',date)\n",
    "\n",
    "print ('This date is starting of year \\n',date.is_year_start)"
   ]
  },
  {
   "cell_type": "code",
   "execution_count": null,
   "id": "c62ae520-607b-4cf1-8028-1e1e79438e28",
   "metadata": {},
   "outputs": [],
   "source": []
  }
 ],
 "metadata": {
  "kernelspec": {
   "display_name": "Python 3 (ipykernel)",
   "language": "python",
   "name": "python3"
  },
  "language_info": {
   "codemirror_mode": {
    "name": "ipython",
    "version": 3
   },
   "file_extension": ".py",
   "mimetype": "text/x-python",
   "name": "python",
   "nbconvert_exporter": "python",
   "pygments_lexer": "ipython3",
   "version": "3.11.4"
  }
 },
 "nbformat": 4,
 "nbformat_minor": 5
}
