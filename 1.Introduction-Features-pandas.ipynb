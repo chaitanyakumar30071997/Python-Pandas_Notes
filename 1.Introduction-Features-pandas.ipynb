{
 "cells": [
  {
   "cell_type": "markdown",
   "id": "890bc1c9-a776-4edd-957d-e96cf398a36c",
   "metadata": {},
   "source": [
    "# Introduction & Features pandas\n",
    "1. Pandas is one of the most popular libraries for data analysis and manipulation.\n",
    "\n",
    "2. Python with Pandas is widely used in Statistics, Finance, Neuroscience, Economics, Web Analytics, Advertising, and many other fields."
   ]
  },
  {
   "cell_type": "markdown",
   "id": "ca17c2b5-9bc1-470b-a62b-16eaa177611c",
   "metadata": {},
   "source": [
    "1. Pandas- Introduction & Features\n",
    "\n",
    "2. Install & Setup Pandas\n",
    "\n",
    "3. Create a Pandas DataFrame (Run first Program)\n",
    "\n",
    "4. Pandas DataFrames - Attributes & Methods\n",
    "\n",
    "5. Join Pandas DataFrame\n",
    "\n",
    "6. Concatenate Pandas DataFrame\n",
    "\n",
    "7. Create a Series\n",
    "\n",
    "8. Pandas Series - Attributes & Methods\n",
    "\n",
    "9. Combine two Pandas series\n",
    "\n",
    "10. Categorical Data in Pandas\n",
    "\n",
    "11. Working with Categories in Pandas\n",
    "\n",
    "12. Read CSV in Pandas\n",
    "\n",
    "13. Read Excel in Pandas\n",
    "\n",
    "14. Indexing in Pandas\n",
    "\n",
    "15. Select multiple columns in Pandas\n",
    "\n",
    "16. Add a new column in Pandas\n",
    "\n",
    "17. Delete rows/ columns in Pandas\n",
    "\n",
    "18. Iterate over rows and columns in Pandas\n",
    "\n",
    "19. Sorting in Pandas\n",
    "\n",
    "20. Handle Duplicates in Pandas\n",
    "\n",
    "21. Clean the Data in Pandas\n",
    "\n",
    "22. String Operations in Pandas\n",
    "\n",
    "23. Date Time Operations in Pandas\n",
    "\n",
    "24. Remove Whitespace in Pandas\n",
    "\n",
    "25. Group the Data in Pandas\n",
    "\n",
    "26. Statistical Functions in Pandas\n",
    "\n",
    "27. Plot a DataFrame in Pandas\n",
    "\n"
   ]
  },
  {
   "cell_type": "markdown",
   "id": "f9117289-ccb2-451a-9370-5037d6ff18d7",
   "metadata": {},
   "source": [
    "# What is pandas\n",
    "Pandas is a powerful and easy-to-use open-source tool built on top of the Python programming language. It is useful for data analysis and manipulation. Python with pandas is widely used in Statistics, Finance, Neuroscience, Economics, Web Analytics, Advertising, etc.\n",
    "\n",
    "To work with data sets, clean them, and make them relevant for Data Science is what Pandas do. With that, easily load and read data sets in Excel, CSV, JSON, XML, etc. formats with Pandas and work on them. Easily clean the wrong format data, remove duplicates, and do other tasks with Pandas.\n",
    "\n",
    "The Python Pandas library was initially developed by Wes McKinney in 2008. After 4 years in 2012, Chang She joined Wes as another contributor to the library."
   ]
  },
  {
   "cell_type": "markdown",
   "id": "3f8e77aa-7b0b-45f9-ae41-308dae528c85",
   "metadata": {},
   "source": [
    "# PANDAS - FEATURES\n",
    "\n",
    "\n",
    "The following are the features of the Pandas Library:\n",
    "\n",
    "■Analyze Data\n",
    "\n",
    "■ Manipulate Data\n",
    "\n",
    "■Columns can be inserted and deleted from the DataFrame\n",
    "\n",
    "■ Group the rows/ columns of a DataFrame/Series\n",
    "\n",
    "Plotting is possible\n",
    "\n",
    "■ Read CSV/Excel/JSON\n",
    "\n",
    "Fix the inaccurate data\n",
    "\n",
    "■ Clean the Data completely\n",
    "\n",
    "■ Handle Duplicates\n",
    "\n",
    "Easy to handle the missing data in the form: NaN, NA, or NaT\n"
   ]
  },
  {
   "cell_type": "code",
   "execution_count": null,
   "id": "ed9dbf09-598e-4846-9f73-df181df5b7df",
   "metadata": {},
   "outputs": [],
   "source": []
  }
 ],
 "metadata": {
  "kernelspec": {
   "display_name": "Python 3 (ipykernel)",
   "language": "python",
   "name": "python3"
  },
  "language_info": {
   "codemirror_mode": {
    "name": "ipython",
    "version": 3
   },
   "file_extension": ".py",
   "mimetype": "text/x-python",
   "name": "python",
   "nbconvert_exporter": "python",
   "pygments_lexer": "ipython3",
   "version": "3.11.4"
  }
 },
 "nbformat": 4,
 "nbformat_minor": 5
}
