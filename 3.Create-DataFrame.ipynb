{
 "cells": [
  {
   "cell_type": "markdown",
   "id": "459e9e8d-2dc8-4f06-8024-ef8a14013416",
   "metadata": {},
   "source": [
    "# What is a Pandas DataFrame ? How to create ?\n",
    "The Pandas DataFrame is a two-dimensional, tabular data, table with rows and columns. The DataFrame() method is used to create a DataFrame and has the following parameters:\n",
    "\n",
    "■data: The data to be stored in the Pandas DataFrame\n",
    "\n",
    "■ index: The index values to be provided for the resultant frame.\n",
    "\n",
    "■ columns: Set the column labels for the resultant frame if data does not mention before\n",
    "\n",
    "■ dtype: It is the datatype and only a single type is allowed.\n",
    "\n",
    "copy: To copy the input data"
   ]
  },
  {
   "cell_type": "markdown",
   "id": "725594d6-2d39-4e81-828e-3265bfb95209",
   "metadata": {},
   "source": [
    "# CREATE A DATAFRAME\n",
    "\n",
    "In this lesson, we will see some examples to create a DataFrame, accessing a group of rows or columns, name own indexes, etc.:\n",
    "\n",
    "1. Create a Pandas DataFrame\n",
    "\n",
    "2. Access a group of rows or columns in a Pandas DataFrame\n",
    "\n",
    "3. Access a group of rows or columns by integer positions in a Pandas DataFrame\n",
    "\n",
    "4. Name your own indexes in a Pandas DataFrame\n",
    "\n",
    "5. Iterate a DataFrame"
   ]
  },
  {
   "cell_type": "code",
   "execution_count": 4,
   "id": "ea80172b-83a0-453f-9a66-cb692670ddbe",
   "metadata": {},
   "outputs": [
    {
     "name": "stdout",
     "output_type": "stream",
     "text": [
      "Requirement already satisfied: NumPy in /data/user/0/ru.iiec.pydroid3/files/aarch64-linux-android/lib/python3.11/site-packages (1.26.1)\n",
      "Note: you may need to restart the kernel to use updated packages.\n"
     ]
    }
   ],
   "source": [
    "pip install NumPy"
   ]
  },
  {
   "cell_type": "code",
   "execution_count": 2,
   "id": "5f8a80e5-5a30-4893-98f1-a2e906513c4f",
   "metadata": {},
   "outputs": [
    {
     "name": "stdout",
     "output_type": "stream",
     "text": [
      "      Emp   Id blood\n",
      "0   Laxmi  101    0+\n",
      "1    davi  102    ab\n",
      "2    sai   103    o-\n",
      "3    chai  104     o\n",
      "4    mani  105    o+\n",
      "5  Ganesh  106    ob\n"
     ]
    }
   ],
   "source": [
    "import pandas as pd \n",
    "\n",
    "Data = {\n",
    "    'Emp' : ['Laxmi' , 'davi','sai ','chai','mani','Ganesh'],\n",
    "     'Id' : [101,102,103,104,105,106],\n",
    "    'blood' : ['0+','ab','o-','o','o+','ob']\n",
    "}\n",
    "pf = pd.DataFrame(Data)\n",
    "print(pf)\n",
    "    \n"
   ]
  },
  {
   "cell_type": "markdown",
   "id": "63fb2b96-3284-43d5-a546-80e937fd7215",
   "metadata": {},
   "source": [
    "# Access Group Roll or column in a pandas DataFrame\n"
   ]
  },
  {
   "cell_type": "code",
   "execution_count": 6,
   "id": "d6e6e2ab-96db-497e-b05c-d2c8d31be0ef",
   "metadata": {},
   "outputs": [
    {
     "name": "stdout",
     "output_type": "stream",
     "text": [
      "     EmpName  Id-No blood\n",
      "RowA   Laxmi    101    0+\n",
      "RowB    davi    102    ab\n",
      "RowC    sai     103    o-\n",
      "RowD    chai    104     o\n",
      "RowE    mani    105    o+\n",
      "RowF  Ganesh    106    ob\n"
     ]
    }
   ],
   "source": [
    "import pandas as pd \n",
    "\n",
    "Data = {\n",
    "    'EmpName' : ['Laxmi' , 'davi','sai ','chai','mani','Ganesh'],\n",
    "     'Id-No' : [101,102,103,104,105,106],\n",
    "    'blood' : ['0+','ab','o-','o','o+','ob']\n",
    "}\n",
    "pf = pd.DataFrame(Data, index = ['RowA','RowB','RowC', 'RowD','RowE','RowF'])\n",
    "print(pf)\n",
    "    \n"
   ]
  },
  {
   "cell_type": "code",
   "execution_count": null,
   "id": "aa8aebfa-3181-4505-bb6c-39c7cc203c69",
   "metadata": {},
   "outputs": [],
   "source": []
  },
  {
   "cell_type": "code",
   "execution_count": 11,
   "id": "39ee92f9-60df-468c-b47d-30141609115d",
   "metadata": {},
   "outputs": [
    {
     "name": "stdout",
     "output_type": "stream",
     "text": [
      "     EmpName  Id-No blood\n",
      "RowA   Laxmi    101    0+\n",
      "RowB    davi    102    ab\n",
      "RowC    sai     103    o-\n",
      "RowD    chai    104     o\n",
      "RowE    mani    105    o+\n",
      "RowF  Ganesh    106    ob\n",
      "\n",
      " Values  = \n",
      "      EmpName  Id-No blood\n",
      "RowA   Laxmi    101    0+\n",
      "RowB    davi    102    ab\n"
     ]
    }
   ],
   "source": [
    "import pandas as pd \n",
    "\n",
    "Data = {\n",
    "    'EmpName' : ['Laxmi' , 'davi','sai ','chai','mani','Ganesh'],\n",
    "     'Id-No' : [101,102,103,104,105,106],\n",
    "    'blood' : ['0+','ab','o-','o','o+','ob']\n",
    "}\n",
    "pf = pd.DataFrame(Data, index = ['RowA','RowB','RowC', 'RowD','RowE','RowF'])\n",
    "print(pf)\n",
    "\n",
    "\n",
    "# Access Row or column integer Dosition\n",
    "print(\"\\n Values  = \\n\",pf.iloc[[0,1]])\n",
    "\n",
    "    \n"
   ]
  },
  {
   "cell_type": "code",
   "execution_count": null,
   "id": "e604e6ae-8bf9-4eab-8e1e-975c869b92c4",
   "metadata": {},
   "outputs": [],
   "source": [
    "# Names your indexes in a pandas DataFrame\n"
   ]
  },
  {
   "cell_type": "code",
   "execution_count": 13,
   "id": "edcd5c9f-a6c9-47bd-9180-c927991e3254",
   "metadata": {},
   "outputs": [
    {
     "name": "stdout",
     "output_type": "stream",
     "text": [
      "\n",
      " Display index Column Name \n",
      "EmpName\n",
      "Id-No\n",
      "blood\n"
     ]
    }
   ],
   "source": [
    "# integer DataFrame desiplay data set in columns \n",
    "import pandas as pd \n",
    "\n",
    "Data = {\n",
    "    'EmpName' : ['Laxmi' , 'davi','sai ','chai','mani','Ganesh'],\n",
    "     'Id-No' : [101,102,103,104,105,106],\n",
    "    'blood' : ['0+','ab','o-','o','o+','ob']\n",
    "}\n",
    "pf = pd.DataFrame(Data, index = ['EMP-1','EMP-2','EMP-3', 'EMP-4','EMP-5','EMP-6'])\n",
    "print('\\n Display index Column Name ')\n",
    "\n",
    "for col in pf:\n",
    "    print (col)\n",
    "\n",
    "\n",
    "    \n"
   ]
  },
  {
   "cell_type": "code",
   "execution_count": null,
   "id": "0bc9bce1-8e59-4af8-bfe3-a1992b9514e3",
   "metadata": {},
   "outputs": [],
   "source": [
    " \n",
    "\n"
   ]
  },
  {
   "cell_type": "code",
   "execution_count": null,
   "id": "b1aa5814-f20a-4b90-9667-6e3c943f4b1c",
   "metadata": {},
   "outputs": [],
   "source": [
    "\n"
   ]
  },
  {
   "cell_type": "code",
   "execution_count": null,
   "id": "e015e914-ec71-49b2-a865-2e8ebeb92252",
   "metadata": {},
   "outputs": [],
   "source": []
  }
 ],
 "metadata": {
  "kernelspec": {
   "display_name": "Python 3 (ipykernel)",
   "language": "python",
   "name": "python3"
  },
  "language_info": {
   "codemirror_mode": {
    "name": "ipython",
    "version": 3
   },
   "file_extension": ".py",
   "mimetype": "text/x-python",
   "name": "python",
   "nbconvert_exporter": "python",
   "pygments_lexer": "ipython3",
   "version": "3.11.4"
  }
 },
 "nbformat": 4,
 "nbformat_minor": 5
}
