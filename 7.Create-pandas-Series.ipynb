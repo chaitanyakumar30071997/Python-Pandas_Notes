{
 "cells": [
  {
   "cell_type": "markdown",
   "id": "f9f1df19-39c8-48e8-a93e-853184cc0f26",
   "metadata": {},
   "source": [
    "# WHAT IS A SERIES IN PANDAS? HOW TO CREATE ?\n",
    "\n",
    "Series in Pandas is a one-dimensional array, like a column in a table. It is a labeled array that can hold data of any type. The Series() method is used for this and has the following parameters:\n",
    "\n",
    "1. data: The data to be stored in the Pandas Series\n",
    "\n",
    "2. index: The index values should have the same length as the data.\n",
    "\n",
    "3. dtype: It is the datatype for the output Series.\n",
    "\n",
    "4. name: Set the series name with the name parameter\n",
    "\n",
    "5. copy :- To copy the input data\n",
    "\n",
    "# PANDAS - CREATE A SERIES\n",
    "\n",
    "In this lesson, we will understand what is Series with the following examples:\n",
    "\n",
    "1. Create a Pandas Series\n",
    "\n",
    "2. Access a value from a Pandas Series\n",
    "\n",
    "3. Name your own indexes in a Pandas Series\n",
    "\n",
    "4. Access a value from a Pandas Series with labels\n",
    "\n"
   ]
  },
  {
   "cell_type": "code",
   "execution_count": 2,
   "id": "f1941df3-1b13-4226-b519-1c03bb1e204f",
   "metadata": {},
   "outputs": [
    {
     "name": "stdout",
     "output_type": "stream",
     "text": [
      "0    25\n",
      "1    34\n",
      "2    45\n",
      "3    65\n",
      "4    75\n",
      "dtype: int64\n"
     ]
    }
   ],
   "source": [
    "# create a pandas series\n",
    "import pandas as pd\n",
    "data = [25,34,45,65,75]\n",
    "\n",
    "# create a series using Series() method \n",
    "df = pd.Series(data)\n",
    "print (df)"
   ]
  },
  {
   "cell_type": "markdown",
   "id": "8b4ae8f6-e4b3-4f6f-b976-33e4b3dfdf77",
   "metadata": {},
   "source": [
    "# ACCESS A VALUE FROM A PANDAS SERIES\n",
    "\n",
    "Let us see how to access a specific value from a Series. The is used to access a value. Set the index of the value you want to display inside]:"
   ]
  },
  {
   "cell_type": "code",
   "execution_count": 6,
   "id": "5a9150d3-81a9-4d20-9cf8-09db88790109",
   "metadata": {},
   "outputs": [
    {
     "name": "stdout",
     "output_type": "stream",
     "text": [
      "0    25\n",
      "1    34\n",
      "2    45\n",
      "3    65\n",
      "4    75\n",
      "dtype: int64\n",
      "Find the index value of 2 :-   45\n"
     ]
    }
   ],
   "source": [
    "# Access a value from a pandas series\n",
    "import pandas as pd\n",
    "data = [25,34,45,65,75]\n",
    "\n",
    "\n",
    "df = pd.Series(data)\n",
    "print (df)\n",
    "\n",
    "\n",
    "# create series find the index value \n",
    "print('Find the index value of 2 :-  ',df[2])"
   ]
  },
  {
   "cell_type": "markdown",
   "id": "0d619f6d-1dfc-4d23-81db-0cfddaaf8047",
   "metadata": {},
   "source": [
    "# 3. NAME YOUR INDEXES IN A PANDAS SERIES\n",
    "\n",
    "The index argument is used to set and name your own indexes in a Series i.e. the labels can be set accordingly.\n",
    "\n",
    "Let us see an example:"
   ]
  },
  {
   "cell_type": "code",
   "execution_count": 8,
   "id": "4d70acc2-af49-41e8-9768-e478df89f019",
   "metadata": {},
   "outputs": [
    {
     "name": "stdout",
     "output_type": "stream",
     "text": [
      "Row1    25\n",
      "Row2    34\n",
      "Row3    45\n",
      "Row4    65\n",
      "Row5    75\n",
      "dtype: int64\n"
     ]
    }
   ],
   "source": [
    "# Access a value from a pandas series\n",
    "import pandas as pd\n",
    "data = [25,34,45,65,75]\n",
    "\n",
    "# add index name in value \n",
    "df = pd.Series(data , index = ['Row1','Row2','Row3','Row4','Row5'])\n",
    "print (df)\n",
    "\n",
    "\n",
    "# "
   ]
  },
  {
   "cell_type": "markdown",
   "id": "a60867b8-b23d-40c5-9ebb-039bff453848",
   "metadata": {},
   "source": [
    "# 4. ACCESS A VALUE FROM A PANDAS SERIES WITH LABELS\n",
    "\n",
    "If you have set the custom index for labels as shown above, then accessing any value from the Series is quite easy. Refer to the label and that's it."
   ]
  },
  {
   "cell_type": "code",
   "execution_count": null,
   "id": "6827a6bb-7089-447e-9e89-ea78b04f8c8e",
   "metadata": {},
   "outputs": [],
   "source": []
  },
  {
   "cell_type": "code",
   "execution_count": 12,
   "id": "b273448e-bdf5-4e01-9b76-7a2b7d691ae3",
   "metadata": {},
   "outputs": [
    {
     "name": "stdout",
     "output_type": "stream",
     "text": [
      "Row1    25\n",
      "Row2    34\n",
      "Row3    45\n",
      "Row4    65\n",
      "Row5    75\n",
      "dtype: int64\n",
      "find the value by user labels \n",
      " 34\n"
     ]
    }
   ],
   "source": [
    "\n",
    "import pandas as pd\n",
    "data = [25,34,45,65,75]\n",
    "\n",
    "# add index name in value \n",
    "df = pd.Series(data , index = ['Row1','Row2','Row3','Row4','Row5'])\n",
    "print (df)\n",
    "\n",
    "# Access in the value by using labels\n",
    "print ('find the value by user labels \\n', df['Row2'])\n",
    "\n",
    "\n",
    "\n",
    "# "
   ]
  },
  {
   "cell_type": "code",
   "execution_count": null,
   "id": "c66a8f18-d500-43ee-a259-89d4edf75080",
   "metadata": {},
   "outputs": [],
   "source": []
  }
 ],
 "metadata": {
  "kernelspec": {
   "display_name": "Python 3 (ipykernel)",
   "language": "python",
   "name": "python3"
  },
  "language_info": {
   "codemirror_mode": {
    "name": "ipython",
    "version": 3
   },
   "file_extension": ".py",
   "mimetype": "text/x-python",
   "name": "python",
   "nbconvert_exporter": "python",
   "pygments_lexer": "ipython3",
   "version": "3.11.4"
  }
 },
 "nbformat": 4,
 "nbformat_minor": 5
}
