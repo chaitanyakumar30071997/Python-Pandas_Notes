{
 "cells": [
  {
   "cell_type": "markdown",
   "id": "11fed6ad-c12c-4c3b-8e8c-ee5766fcf50a",
   "metadata": {},
   "source": [
    "# COMBINE TWO PANDAS SERIES\n",
    "\n",
    "To combine two Pandas series into one in Python, use the combine() method. It uses a\n",
    "\n",
    "specific function for the decision, mentioned by the user as a parameter of the combine()\n",
    "\n",
    "method.\n",
    "\n",
    "We will see an example that will fetch the largest values from both series. Each element of both the series will be compared one by one. Let us see the example:"
   ]
  },
  {
   "cell_type": "code",
   "execution_count": 14,
   "id": "2594c7c0-207e-4e4d-9369-c367c10d03c7",
   "metadata": {},
   "outputs": [
    {
     "name": "stdout",
     "output_type": "stream",
     "text": [
      "Series-1 0    32\n",
      "1    33\n",
      "2    56\n",
      "3    34\n",
      "4    65\n",
      "dtype: int64\n",
      "Series-2 0    31\n",
      "1    56\n",
      "2    98\n",
      "3    57\n",
      "4    66\n",
      "dtype: int64\n",
      "\n",
      " Two combine series 0    32\n",
      "1    56\n",
      "2    98\n",
      "3    57\n",
      "4    66\n",
      "dtype: int64\n"
     ]
    }
   ],
   "source": [
    "import pandas as pd\n",
    "data1 = [32,33,56,34,65] \n",
    "data2 = [31,56,98,57,66]\n",
    "\n",
    "ser1 = pd.Series(data1)\n",
    "ser2 = pd.Series(data2)\n",
    "\n",
    "print('Series-1',ser1)\n",
    "print('Series-2',ser2)\n",
    "\n",
    "def demo (x ,y ):\n",
    "    if (x > y):\n",
    "        return x\n",
    "\n",
    "    else :\n",
    "        return y\n",
    "# combine two series in one \n",
    "res = ser1.combine(ser2,demo)\n",
    "print ('\\n Two combine series',res)"
   ]
  },
  {
   "cell_type": "code",
   "execution_count": null,
   "id": "b48e8d00-014a-4bd7-bcd6-d1b9fb078c6f",
   "metadata": {},
   "outputs": [],
   "source": []
  },
  {
   "cell_type": "code",
   "execution_count": null,
   "id": "7326b2b3-ab7b-4cbb-9b1e-d3349cafa5de",
   "metadata": {},
   "outputs": [],
   "source": []
  }
 ],
 "metadata": {
  "kernelspec": {
   "display_name": "Python 3 (ipykernel)",
   "language": "python",
   "name": "python3"
  },
  "language_info": {
   "codemirror_mode": {
    "name": "ipython",
    "version": 3
   },
   "file_extension": ".py",
   "mimetype": "text/x-python",
   "name": "python",
   "nbconvert_exporter": "python",
   "pygments_lexer": "ipython3",
   "version": "3.11.4"
  }
 },
 "nbformat": 4,
 "nbformat_minor": 5
}
