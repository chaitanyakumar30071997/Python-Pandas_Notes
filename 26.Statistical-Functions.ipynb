{
 "cells": [
  {
   "cell_type": "markdown",
   "id": "3d9c56cb-82b6-42cd-b7a5-7311acf33d5f",
   "metadata": {},
   "source": [
    "# PANDAS - STATISTICAL FUNCTIONS\n",
    "\n",
    "In this lesson, we will work around statistics operations using the statistical functions in Python Pandas. It can be applied to a Pandas Series or DataFrame:\n",
    "\n",
    "1. sum(): Return the sum of the values.\n",
    "\n",
    "2. count(): Return the count of non-empty values.\n",
    "\n",
    "3. max(): Return the maximum of the values.\n",
    "\n",
    "4. min(): Return the minimum of the values.\n",
    "\n",
    "5. mean(): Return the mean of the values.\n",
    "\n",
    "6. median(): Return the median of the values.\n",
    "\n",
    "7. std(): Return the standard deviation of the values.\n",
    "\n",
    "8. describe(): Return the summary statistics for each column."
   ]
  },
  {
   "cell_type": "markdown",
   "id": "d7fad1ff-1864-46bd-9aef-265f83a9415f",
   "metadata": {},
   "source": [
    "# 1. PANDAS - SUM() FUNCTION\n",
    "\n",
    "The sum() method in Python Pandas is used to return the sum of the values."
   ]
  },
  {
   "cell_type": "code",
   "execution_count": 4,
   "id": "0afb4393-07b9-4b81-ac8e-8e87ab2a5eac",
   "metadata": {},
   "outputs": [
    {
     "name": "stdout",
     "output_type": "stream",
     "text": [
      "   Laxmi  div  sneha\n",
      "0     76   98     98\n",
      "1     54   46     57\n",
      "2     46   97     66\n",
      "3     75   57     46\n",
      "4     96   65     66\n",
      "5     57   67     66\n",
      "\n",
      " cla sum values \n",
      "  Laxmi    404\n",
      "div      430\n",
      "sneha    399\n",
      "dtype: int64\n"
     ]
    }
   ],
   "source": [
    "import pandas as pd\n",
    "\n",
    "data = {\n",
    "\n",
    "    'Laxmi' : [76,54,46,75,96,57],\n",
    "    'div'   : [98,46,97,57,65,67],\n",
    "    'sneha' : [98,57,66,46,66,66]\n",
    "}\n",
    "\n",
    "df = pd.DataFrame(data)\n",
    "print (df )\n",
    "\n",
    "print('\\n cla sum values \\n ',df.sum())"
   ]
  },
  {
   "cell_type": "markdown",
   "id": "81795ed1-c07c-40f8-a136-ece12d72be62",
   "metadata": {},
   "source": [
    "# 2. PANDAS - COUNT() FUNCTION\n",
    "\n",
    "The count() method in Python Pandas is used to return the count of non-empty values.\n",
    "\n"
   ]
  },
  {
   "cell_type": "code",
   "execution_count": 6,
   "id": "2804860e-b8ab-41f8-81c9-e344a6d66cb9",
   "metadata": {},
   "outputs": [
    {
     "name": "stdout",
     "output_type": "stream",
     "text": [
      "   Laxmi  div  sneha\n",
      "0   76.0   98   98.0\n",
      "1   54.0   46   57.0\n",
      "2   46.0   97    NaN\n",
      "3   75.0   57   46.0\n",
      "4   96.0   65    NaN\n",
      "5    NaN   67   66.0\n",
      "\n",
      " cla sum values \n",
      "  Laxmi    5\n",
      "div      6\n",
      "sneha    4\n",
      "dtype: int64\n"
     ]
    }
   ],
   "source": [
    "import pandas as pd\n",
    "\n",
    "data = {\n",
    "\n",
    "    'Laxmi' : [76,54,46,75,96,None],\n",
    "    'div'   : [98,46,97,57,65,67],\n",
    "    'sneha' : [98,57,None,46,None,66]\n",
    "}\n",
    "\n",
    "df = pd.DataFrame(data)\n",
    "print (df )\n",
    "\n",
    "print('\\n cla sum values \\n ',df.count())"
   ]
  },
  {
   "cell_type": "markdown",
   "id": "b5a088fc-4f97-446f-81d1-ad5e1640f3a2",
   "metadata": {},
   "source": [
    "# 3. PANDAS - MAX() FUNCTION\n",
    "\n",
    "The max() method in Python Pandas is used to return the maximum of the values."
   ]
  },
  {
   "cell_type": "code",
   "execution_count": null,
   "id": "bea2c3e0-4b00-4bc7-9dba-3b616aee708f",
   "metadata": {},
   "outputs": [],
   "source": []
  },
  {
   "cell_type": "code",
   "execution_count": 7,
   "id": "6528c5d8-5ebd-41cd-8b33-4ef2b8870f32",
   "metadata": {},
   "outputs": [
    {
     "name": "stdout",
     "output_type": "stream",
     "text": [
      "   Laxmi  div  sneha\n",
      "0     76   98     98\n",
      "1     54   46     57\n",
      "2     46   97     66\n",
      "3     75   57     46\n",
      "4     96   65     66\n",
      "5     57   67     66\n",
      "\n",
      " find max  values \n",
      "  Laxmi    96\n",
      "div      98\n",
      "sneha    98\n",
      "dtype: int64\n"
     ]
    }
   ],
   "source": [
    "import pandas as pd\n",
    "\n",
    "data = {\n",
    "\n",
    "    'Laxmi' : [76,54,46,75,96,57],\n",
    "    'div'   : [98,46,97,57,65,67],\n",
    "    'sneha' : [98,57,66,46,66,66]\n",
    "}\n",
    "\n",
    "df = pd.DataFrame(data)\n",
    "print (df )\n",
    "\n",
    "print('\\n find max  values \\n ',df.max())"
   ]
  },
  {
   "cell_type": "markdown",
   "id": "014b357f-da83-4229-b606-b3cbc029b738",
   "metadata": {},
   "source": [
    "# 4. PANDAS - MIN() FUNCTION\n",
    "\n",
    "The min() method in Python Pandas is used to return the minimum of the values."
   ]
  },
  {
   "cell_type": "code",
   "execution_count": 8,
   "id": "85a97f99-37b7-4763-b59d-056576dde95f",
   "metadata": {},
   "outputs": [
    {
     "name": "stdout",
     "output_type": "stream",
     "text": [
      "   Laxmi  div  sneha\n",
      "0     76   98     98\n",
      "1     54   46     57\n",
      "2     46   97     66\n",
      "3     75   57     46\n",
      "4     96   65     66\n",
      "5     57   67     66\n",
      "\n",
      " find max  values \n",
      "  Laxmi    46\n",
      "div      46\n",
      "sneha    46\n",
      "dtype: int64\n"
     ]
    }
   ],
   "source": [
    "import pandas as pd\n",
    "\n",
    "data = {\n",
    "\n",
    "    'Laxmi' : [76,54,46,75,96,57],\n",
    "    'div'   : [98,46,97,57,65,67],\n",
    "    'sneha' : [98,57,66,46,66,66]\n",
    "}\n",
    "\n",
    "df = pd.DataFrame(data)\n",
    "print (df )\n",
    "\n",
    "print('\\n find min values \\n ',df.min())"
   ]
  },
  {
   "cell_type": "markdown",
   "id": "7835c196-aea6-446f-8f83-020cb7f4fa15",
   "metadata": {},
   "source": [
    "# 5. PANDAS - MEAN() FUNCTION\n",
    "\n",
    "The mean() method in Python Pandas is used to return the mean of the values.\n",
    "\n",
    "Let us see an example:"
   ]
  },
  {
   "cell_type": "code",
   "execution_count": null,
   "id": "369777ba-adb0-41b1-8e4f-b73f3ee753f5",
   "metadata": {},
   "outputs": [],
   "source": []
  },
  {
   "cell_type": "code",
   "execution_count": 9,
   "id": "c67bddea-4922-41f0-8e0a-91ba788812d5",
   "metadata": {},
   "outputs": [
    {
     "name": "stdout",
     "output_type": "stream",
     "text": [
      "   Laxmi  div  sneha\n",
      "0     76   98     98\n",
      "1     54   46     57\n",
      "2     46   97     66\n",
      "3     75   57     46\n",
      "4     96   65     66\n",
      "5     57   67     66\n",
      "\n",
      " find max  values \n",
      "  Laxmi    67.333333\n",
      "div      71.666667\n",
      "sneha    66.500000\n",
      "dtype: float64\n"
     ]
    }
   ],
   "source": [
    "import pandas as pd\n",
    "\n",
    "data = {\n",
    "\n",
    "    'Laxmi' : [76,54,46,75,96,57],\n",
    "    'div'   : [98,46,97,57,65,67],\n",
    "    'sneha' : [98,57,66,46,66,66]\n",
    "}\n",
    "\n",
    "df = pd.DataFrame(data)\n",
    "print (df )\n",
    "\n",
    "print('\\n find mean  values \\n ',df.mean())"
   ]
  },
  {
   "cell_type": "markdown",
   "id": "a08df16d-02c8-4233-a4f6-f15ff5bc3905",
   "metadata": {},
   "source": [
    "# 6. PANDAS - MEDIAN() FUNCTION\n",
    "\n",
    "The median() method in Python Pandas is used to return the median of the values."
   ]
  },
  {
   "cell_type": "code",
   "execution_count": null,
   "id": "2630e459-5429-497a-926a-404787acf44a",
   "metadata": {},
   "outputs": [],
   "source": []
  },
  {
   "cell_type": "code",
   "execution_count": 16,
   "id": "60b4a2ce-dc0f-46e1-98ad-460048b4c478",
   "metadata": {},
   "outputs": [
    {
     "name": "stdout",
     "output_type": "stream",
     "text": [
      "   Laxmi  div  sneha\n",
      "0     76   98     98\n",
      "1     54   46     57\n",
      "2     46   97     66\n",
      "3     75   57     46\n",
      "4     96   65     66\n",
      "5     57   67     66\n",
      "\n",
      " find median  values \n",
      "  Laxmi    66.0\n",
      "div      66.0\n",
      "sneha    66.0\n",
      "dtype: float64\n"
     ]
    }
   ],
   "source": [
    "import pandas as pd\n",
    "\n",
    "data = {\n",
    "\n",
    "    'Laxmi' : [76,54,46,75,96,57],\n",
    "    'div'   : [98,46,97,57,65,67],\n",
    "    'sneha' : [98,57,66,46,66,66]\n",
    "}\n",
    "\n",
    "df = pd.DataFrame(data)\n",
    "print (df )\n",
    "\n",
    "print('\\n find median  values \\n ',df.median())"
   ]
  },
  {
   "cell_type": "markdown",
   "id": "3bf3f0e6-b7e0-4ef6-8a8f-e6f3473b0c50",
   "metadata": {},
   "source": [
    "# 7. PANDAS - STD() FUNCTION\n",
    "\n",
    "The std() method in Python Pandas is used to return the standard deviation of the values."
   ]
  },
  {
   "cell_type": "code",
   "execution_count": null,
   "id": "859dd945-1cea-478a-99b5-ac09636647d8",
   "metadata": {},
   "outputs": [],
   "source": []
  },
  {
   "cell_type": "code",
   "execution_count": 14,
   "id": "ab207761-4c56-4852-9464-50d2429765a5",
   "metadata": {},
   "outputs": [
    {
     "name": "stdout",
     "output_type": "stream",
     "text": [
      "   Laxmi  div  sneha\n",
      "0     76   98     98\n",
      "1     54   46     57\n",
      "2     46   97     66\n",
      "3     75   57     46\n",
      "4     96   65     66\n",
      "5     57   67     66\n",
      "\n",
      " find standard  values \n",
      "  Laxmi    18.413763\n",
      "div      21.332292\n",
      "sneha    17.340704\n",
      "dtype: float64\n"
     ]
    }
   ],
   "source": [
    "import pandas as pd\n",
    "\n",
    "data = {\n",
    "\n",
    "    'Laxmi' : [76,54,46,75,96,57],\n",
    "    'div'   : [98,46,97,57,65,67],\n",
    "    'sneha' : [98,57,66,46,66,66]\n",
    "}\n",
    "\n",
    "df = pd.DataFrame(data)\n",
    "print (df )\n",
    "\n",
    "print('\\n find standard  values \\n ',df.std())"
   ]
  },
  {
   "cell_type": "markdown",
   "id": "59232798-3ce2-47fb-985d-b3c94470c4ff",
   "metadata": {},
   "source": [
    "# 8. PANDAS - DESCRIBE() FUNCTION\n",
    "\n",
    "The describe() method in Python Pandas is used to return the summary statistics for each column."
   ]
  },
  {
   "cell_type": "code",
   "execution_count": 13,
   "id": "eb450317-187b-4784-86c3-2dd401f81fa4",
   "metadata": {},
   "outputs": [
    {
     "name": "stdout",
     "output_type": "stream",
     "text": [
      "   Laxmi  div  sneha\n",
      "0     76   98     98\n",
      "1     54   46     57\n",
      "2     46   97     66\n",
      "3     75   57     46\n",
      "4     96   65     66\n",
      "5     57   67     66\n",
      "\n",
      " find describe  values \n",
      "             Laxmi        div      sneha\n",
      "count   6.000000   6.000000   6.000000\n",
      "mean   67.333333  71.666667  66.500000\n",
      "std    18.413763  21.332292  17.340704\n",
      "min    46.000000  46.000000  46.000000\n",
      "25%    54.750000  59.000000  59.250000\n",
      "50%    66.000000  66.000000  66.000000\n",
      "75%    75.750000  89.500000  66.000000\n",
      "max    96.000000  98.000000  98.000000\n"
     ]
    }
   ],
   "source": [
    "import pandas as pd\n",
    "\n",
    "data = {\n",
    "\n",
    "    'Laxmi' : [76,54,46,75,96,57],\n",
    "    'div'   : [98,46,97,57,65,67],\n",
    "    'sneha' : [98,57,66,46,66,66]\n",
    "}\n",
    "\n",
    "df = pd.DataFrame(data)\n",
    "print (df )\n",
    "\n",
    "print('\\n find describe  values \\n ',df.describe())"
   ]
  },
  {
   "cell_type": "code",
   "execution_count": null,
   "id": "c1375974-1999-4cf2-8178-b4a7778f00a5",
   "metadata": {},
   "outputs": [],
   "source": []
  }
 ],
 "metadata": {
  "kernelspec": {
   "display_name": "Python 3 (ipykernel)",
   "language": "python",
   "name": "python3"
  },
  "language_info": {
   "codemirror_mode": {
    "name": "ipython",
    "version": 3
   },
   "file_extension": ".py",
   "mimetype": "text/x-python",
   "name": "python",
   "nbconvert_exporter": "python",
   "pygments_lexer": "ipython3",
   "version": "3.11.4"
  }
 },
 "nbformat": 4,
 "nbformat_minor": 5
}
