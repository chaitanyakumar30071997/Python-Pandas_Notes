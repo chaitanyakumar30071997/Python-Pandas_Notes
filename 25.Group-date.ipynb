{
 "cells": [
  {
   "cell_type": "markdown",
   "id": "83c6df06-35e7-40b6-93bb-256ec3ebb28a",
   "metadata": {},
   "source": [
    "# PANDAS - GROUP THE DATA\n",
    "\n",
    "In this lesson, we will learn how to group data in a DataFrame and perform operations on it. First, we will split the data into groups, then we will iterate through the groups and then display the groups. Let us see what we will cover:\n",
    "\n",
    "Example 1: Split the object and combine the result\n",
    "\n",
    "Example 2: Iterate the Group\n",
    "\n",
    "Example 3: View the Group\n",
    "\n",
    "Example 4: Perform Aggregation Operations on Groups"
   ]
  },
  {
   "cell_type": "markdown",
   "id": "d7c11bb1-3e6f-419a-9fd1-c1e601a61492",
   "metadata": {},
   "source": [
    "# 1. PANDAS - SPLIT THE OBJECT AND COMBINE THE RESULT\n",
    "\n",
    "The groupby() method is used in Pandas to split the object. We can define groupby() as grouping the rows/columns into specific groups.\n",
    "\n",
    "In the below example, we are grouping by the Player column:"
   ]
  },
  {
   "cell_type": "code",
   "execution_count": null,
   "id": "0d61890a-3b61-4974-8f22-d7af95d143a2",
   "metadata": {},
   "outputs": [],
   "source": [
    "import pandas as pd\n",
    "data = {\n",
    "    'players ': ['Dhoni','devi','sunriKumar','Jda'],\n",
    "    'Years':[2014,1997,2020,2001],\n",
    "    'Rank':[1,3,2,4 ]\n",
    "}\n",
    "df = pd.DataFrame(data)\n",
    "\n",
    "print('DataFrame print',df)\n",
    "\n",
    "dff = df.groupby('players')\n",
    "\n",
    "print(dff.first())\n"
   ]
  },
  {
   "cell_type": "code",
   "execution_count": null,
   "id": "4edf492c-7602-4279-901d-41a265e3ed1f",
   "metadata": {},
   "outputs": [],
   "source": [
    "import pandas as pd\n",
    "\n",
    "data = {\n",
    "    'players': ['Dhoni', 'devi', 'sunrikumar', 'Jda'],\n",
    "    'Years': [2014, 1997, 2020, 2001],\n",
    "    'Rank': [1, 3, 2, 4]\n",
    "}\n",
    "\n",
    "df = pd.DataFrame(data)\n",
    "print('DataFrame print', df)\n",
    "\n",
    "dff = df.groupby('players').first()\n",
    "print(dff)\n"
   ]
  },
  {
   "cell_type": "markdown",
   "id": "ec24d04d-02d9-4c90-915b-1d204a3615ca",
   "metadata": {},
   "source": [
    "# 2. PANDAS – ITERATE THE GROUP\n",
    "\n",
    "Iterate and loop through the groups with groupby() using the for-in loop. In the below example, the iteration is through the group Player one by one:"
   ]
  },
  {
   "cell_type": "code",
   "execution_count": null,
   "id": "742ea6b9-0658-4443-89aa-7574b0c5ff0c",
   "metadata": {},
   "outputs": [],
   "source": []
  },
  {
   "cell_type": "code",
   "execution_count": null,
   "id": "14a916a8-0274-4f5c-9058-3f1e834f5674",
   "metadata": {},
   "outputs": [],
   "source": [
    "import pandas as pd\n",
    "\n",
    "data = {\n",
    "    'players': ['Dhoni', 'devi', 'sunrikumar', 'Jda'],\n",
    "    'Years': [2014, 1997, 2020, 2001],\n",
    "    'Rank': [1, 3, 2, 4]\n",
    "}\n",
    "\n",
    "df = pd.DataFrame(data)\n",
    "print('DataFrame print', df)\n",
    "\n",
    "dff = df.groupby('players').first()\n",
    "\n",
    "\n",
    "for name , group in df:\n",
    "    print(name)\n",
    "    print (group) "
   ]
  },
  {
   "cell_type": "code",
   "execution_count": null,
   "id": "cd41fc9b-cf70-44c4-94e5-24c6872fcda7",
   "metadata": {},
   "outputs": [],
   "source": [
    "import pandas as pd\n",
    "\n",
    "data = {\n",
    "    'players': ['Dhoni', 'devi', 'sunrikumar', 'Jda'],\n",
    "    'Years': [2014, 1997, 2020, 2001],\n",
    "    'Rank': [1, 3, 2, 4]\n",
    "}\n",
    "\n",
    "df = pd.DataFrame(data)\n",
    "print('DataFrame print', df)\n",
    "\n",
    "dff = df.groupby('players').first()\n",
    "print(dff)\n",
    "\n",
    "for name, group in df.groupby('players'):\n",
    "    print(name)\n",
    "    print(group)\n",
    "    "
   ]
  },
  {
   "cell_type": "markdown",
   "id": "19990482-5701-4df1-ad32-9fb276cd5a8a",
   "metadata": {},
   "source": [
    "# 3. PANDAS - VIEW THE GROUP\n",
    "\n",
    "Use the groups property in Python Pandas to view the group."
   ]
  },
  {
   "cell_type": "code",
   "execution_count": 33,
   "id": "41dd98a5-ddaa-4311-a0fa-fb3bafedfc63",
   "metadata": {},
   "outputs": [
    {
     "name": "stdout",
     "output_type": "stream",
     "text": [
      "DataFrame print       players  Years  Rank\n",
      "0       Dhoni   2014     1\n",
      "1        devi   1997     3\n",
      "2  sunrikumar   2020     2\n",
      "3         Jda   2001     4\n",
      "{'Dhoni': [0], 'Jda': [3], 'devi': [1], 'sunrikumar': [2]}\n"
     ]
    }
   ],
   "source": [
    "import pandas as pd\n",
    "\n",
    "data = {\n",
    "    'players': ['Dhoni', 'devi','sunrikumar', 'Jda'],\n",
    "    'Years': [2014, 1997, 2020, 2001],\n",
    "    'Rank': [1, 3, 2, 4]\n",
    "}\n",
    "\n",
    "df = pd.DataFrame(data)\n",
    "print('DataFrame print', df)\n",
    "\n",
    "g = df.groupby('players').groups\n",
    "print (g)\n",
    "\n",
    "\n",
    "\n",
    "    "
   ]
  },
  {
   "cell_type": "markdown",
   "id": "133c0dd7-7693-4915-b43b-eeeb55b65f7c",
   "metadata": {},
   "source": [
    "# PANDAS - PERFORM AGGREGATION OPERATIONS ON GROUPS\n",
    "\n",
    "After grouping, we can perform operations on the grouped data using the agg() method. Through this method, get the mean or even get the size of each group, etc.\n",
    "\n",
    "\n",
    "\n",
    "Example 4: Get the mean of the grouped data\n",
    "\n",
    "Example 5: Get the size of each group"
   ]
  },
  {
   "cell_type": "markdown",
   "id": "4a0e86eb-164b-48da-9bb0-6c1698cf513d",
   "metadata": {},
   "source": [
    "# 4. PANDAS – GET THE MEAN OF GROUPED DATA\n",
    "\n",
    "To get the mean of the grouped data, first, group and then use the agg() method with numpy.mean().\n",
    "\n",
    "Let us see an example:"
   ]
  },
  {
   "cell_type": "code",
   "execution_count": 38,
   "id": "af516531-1fd2-46d8-a5a2-a0b03f8aba7b",
   "metadata": {},
   "outputs": [
    {
     "name": "stdout",
     "output_type": "stream",
     "text": [
      "DataFrame print       players  Years  Rank  points\n",
      "0       Dhoni   2014     1     101\n",
      "1        devi   1997     3     104\n",
      "2  sunrikumar   2020     2     103\n",
      "3         Jda   2001     4     102\n",
      "Years\n",
      "1997    104.0\n",
      "2001    102.0\n",
      "2014    101.0\n",
      "2020    103.0\n",
      "Name: points, dtype: float64\n"
     ]
    },
    {
     "name": "stderr",
     "output_type": "stream",
     "text": [
      "/data/user/0/ru.iiec.pydroid3/cache/ipykernel_27527/2897715015.py:17: FutureWarning: The provided callable <function mean at 0x783f082de0> is currently using SeriesGroupBy.mean. In a future version of pandas, the provided callable will be used directly. To keep current behavior pass 'mean' instead.\n",
      "  print(dff['points'].agg(np.mean))\n"
     ]
    }
   ],
   "source": [
    "import pandas as pd\n",
    "import numpy as np\n",
    "\n",
    "data = {\n",
    "    'players': ['Dhoni', 'devi','sunrikumar', 'Jda'],\n",
    "    'Years': [2014, 1997, 2020, 2001],\n",
    "    'Rank': [1, 3, 2, 4],\n",
    "    'points' : [101,104,103,102]\n",
    "    \n",
    "}\n",
    "\n",
    "df = pd.DataFrame(data)\n",
    "print('DataFrame print', df)\n",
    "\n",
    "dff = df.groupby('Years')\n",
    "\n",
    "print(dff['points'].agg(np.mean))\n",
    "\n",
    "\n",
    "\n",
    "\n",
    "\n",
    "    "
   ]
  },
  {
   "cell_type": "markdown",
   "id": "392fa5c7-7c79-4cdd-9bd0-143ea516d98c",
   "metadata": {},
   "source": [
    "# 5. PANDAS - GET THE SIZE OF EACH GROUP (AGGREGATION)\n",
    "\n",
    "To get the size of each group, use the NumPy size attribute in Pandas. We have grouped by the Player column using the groupby()."
   ]
  },
  {
   "cell_type": "code",
   "execution_count": null,
   "id": "b162a453-fa08-42b3-9f11-d02940a0fd25",
   "metadata": {},
   "outputs": [],
   "source": []
  }
 ],
 "metadata": {
  "kernelspec": {
   "display_name": "Python 3 (ipykernel)",
   "language": "python",
   "name": "python3"
  },
  "language_info": {
   "codemirror_mode": {
    "name": "ipython",
    "version": 3
   },
   "file_extension": ".py",
   "mimetype": "text/x-python",
   "name": "python",
   "nbconvert_exporter": "python",
   "pygments_lexer": "ipython3",
   "version": "3.11.4"
  }
 },
 "nbformat": 4,
 "nbformat_minor": 5
}
